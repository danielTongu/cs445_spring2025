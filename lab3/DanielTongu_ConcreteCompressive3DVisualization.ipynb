{
 "cells": [
  {
   "cell_type": "markdown",
   "id": "3714372e",
   "metadata": {},
   "source": [
    "# Concrete Compressive Strength Dataset 3D Visualization Lab\n",
    "\n",
    "## Dataset Overview\n",
    "The Concrete Compressive Strength dataset consists of 1,030 samples of concrete mixtures, each described by seven ingredient proportions and the curing age. The target variable is the measured compressive strength (MPa), reflecting material performance.\n",
    "\n",
    "- **Source:** UCI Machine Learning Repository\n",
    "- **Features:** Cement, Slag, FlyAsh, Water, Superplasticizer, CoarseAggregate, FineAggregate, Age (days)\n",
    "- **Target:** Strength (MPa)\n",
    "\n",
    "We will create five distinct 3D visualizations to explore how mix components and curing age influence compressive strength."
   ]
  },
  {
   "cell_type": "code",
   "execution_count": null,
   "id": "8d92c74d",
   "metadata": {},
   "outputs": [],
   "source": [
    "%%bash\n",
    "pip install --quiet xlrd==2.0.1\n",
    "\n",
    "python - << 'PYCODE'\n",
    "import pandas as pd\n",
    "# Load the dataset\n",
    "df = pd.read_excel('https://archive.ics.uci.edu/ml/machine-learning-databases/concrete/compressive/Concrete_Data.xls', engine='xlrd')\n",
    "df.columns = ['Cement','Slag','FlyAsh','Water','Superplasticizer','CoarseAggregate','FineAggregate','Age','Strength']\n",
    "import pickle\n",
    "pickle.dump(df, open('df_concrete.pkl','wb'))\n",
    "PYCODE"
   ]
  },
  {
   "cell_type": "code",
   "execution_count": null,
   "id": "2b8c4098",
   "metadata": {},
   "outputs": [],
   "source": [
    "import pandas as pd\n",
    "df = pd.read_pickle('df_concrete.pkl')\n",
    "df.head()"
   ]
  },
  {
   "cell_type": "markdown",
   "id": "a72bca2b",
   "metadata": {},
   "source": [
    "## 3D Scatter Plot: Cement vs Water vs Strength\n",
    "\n",
    "**Purpose and Rationale:** Visualize the interaction between cement and water proportions on compressive strength to understand optimal mix ratios.\n",
    "\n",
    "**Big Takeaway:** High cement with moderate water achieves peak strength; too much water reduces strength even at high cement levels.\n",
    "\n",
    "- **What does this image show?** Each point is a sample plotted by Cement (x), Water (y), and Strength (z).\n",
    "- **What is its highlight?** The densest cluster of high-strength points lies at Cement ~300–350 kg/m³ and Water ~150–180 kg/m³.\n",
    "- **What can people learn?** Optimize water-to-cement ratio for maximum strength."
   ]
  },
  {
   "cell_type": "code",
   "execution_count": null,
   "id": "8bdc3d74",
   "metadata": {},
   "outputs": [],
   "source": [
    "import matplotlib.pyplot as plt\n",
    "from mpl_toolkits.mplot3d import Axes3D\n",
    "import numpy as np\n",
    "fig = plt.figure(figsize=(10,7))\n",
    "ax = fig.add_subplot(111, projection='3d')\n",
    "scatter = ax.scatter(df['Cement'], df['Water'], df['Strength'], c=df['Strength'], cmap='viridis')\n",
    "ax.set_xlabel('Cement (kg/m³)'); ax.set_ylabel('Water (kg/m³)'); ax.set_zlabel('Strength (MPa)')\n",
    "ax.set_title('Cement vs Water vs Strength')\n",
    "fig.colorbar(scatter, label='Strength (MPa)')\n",
    "plt.savefig('CementWaterStrength.png', dpi=300)\n",
    "plt.show()"
   ]
  },
  {
   "cell_type": "markdown",
   "id": "f9b2693e",
   "metadata": {},
   "source": [
    "## 3D Surface Plot: Cement vs Age vs Strength\n",
    "\n",
    "**Purpose and Rationale:** Model how curing age and cement content jointly influence strength gain over time.\n",
    "\n",
    "**Big Takeaway:** Higher cement mixes gain strength faster in early days, with diminishing returns after ~28 days.\n",
    "\n",
    "- **What does this image show?** A continuous surface mapping Strength as a function of Cement (x) and Age (y).\n",
    "- **What is its highlight?** The steepest strength gains occur for high cement content during the first 28 days.\n",
    "- **What can people learn?** Plan project schedules around rapid early gains in high-cement mixtures."
   ]
  },
  {
   "cell_type": "code",
   "execution_count": null,
   "id": "25446926",
   "metadata": {},
   "outputs": [],
   "source": [
    "from scipy.interpolate import griddata\n",
    "x, y, z = df['Cement'], df['Age'], df['Strength']\n",
    "xi = np.linspace(x.min(), x.max(), 30); yi = np.linspace(y.min(), y.max(), 30)\n",
    "xi, yi = np.meshgrid(xi, yi)\n",
    "zi = griddata((x, y), z, (xi, yi), method='linear')\n",
    "fig = plt.figure(figsize=(10,7)); ax = fig.add_subplot(111, projection='3d')\n",
    "surf = ax.plot_surface(xi, yi, zi, cmap='plasma', linewidth=0)\n",
    "ax.set_xlabel('Cement'); ax.set_ylabel('Age (days)'); ax.set_zlabel('Strength')\n",
    "ax.set_title('Cement vs Age vs Strength')\n",
    "fig.colorbar(surf, label='Strength (MPa)')\n",
    "plt.savefig('CementAgeStrength.png', dpi=300)\n",
    "plt.show()"
   ]
  },
  {
   "cell_type": "markdown",
   "id": "f222a89b",
   "metadata": {},
   "source": [
    "## 3D Wireframe Plot: Water vs Superplasticizer vs Strength\n",
    "\n",
    "**Purpose and Rationale:** Examine whether superplasticizer can offset high water content's negative effect on strength.\n",
    "\n",
    "**Big Takeaway:** Elevated superplasticizer allows reduced water while maintaining high strength.\n",
    "\n",
    "- **What does this image show?** Wireframe mesh of Strength over Water and Superplasticizer.\n",
    "- **What is its highlight?** Ridge where Superplasticizer >8 kg/m³ and Water <160 kg/m³ indicates optimum admixture use.\n",
    "- **What can people learn?** Use enough superplasticizer to lower water without compromising strength."
   ]
  },
  {
   "cell_type": "code",
   "execution_count": null,
   "id": "b2a22fbf",
   "metadata": {},
   "outputs": [],
   "source": [
    "fig = plt.figure(figsize=(10,7)); ax = fig.add_subplot(111, projection='3d')\n",
    "xi = np.linspace(df['Water'].min(), df['Water'].max(), 30)\n",
    "yi = np.linspace(df['Superplasticizer'].min(), df['Superplasticizer'].max(), 30)\n",
    "xi, yi = np.meshgrid(xi, yi)\n",
    "zi = griddata((df['Water'], df['Superplasticizer']), df['Strength'], (xi, yi), method='linear')\n",
    "ax.plot_wireframe(xi, yi, zi, color='teal')\n",
    "ax.set_xlabel('Water'); ax.set_ylabel('Superplasticizer'); ax.set_zlabel('Strength')\n",
    "ax.set_title('Water vs Superplasticizer vs Strength')\n",
    "plt.savefig('WaterSuperplasticizerStrength.png', dpi=300)\n",
    "plt.show()"
   ]
  },
  {
   "cell_type": "markdown",
   "id": "078ffcea",
   "metadata": {},
   "source": [
    "## 3D Line Plot: Monthly Avg Cement vs Strength\n",
    "\n",
    "**Purpose and Rationale:** Aggregate to monthly bins to reveal long-term trends without overplotting.\n",
    "\n",
    "**Big Takeaway:** Strength plateaus after month 3, indicating limited gains from extended curing.\n",
    "\n",
    "- **What does this image show?** Colored line tracing monthly-averaged Cement and Strength over time.\n",
    "- **What is its highlight?** Noticeable flattening of strength gains beyond the third month.\n",
    "- **What can people learn?** Optimize curing schedules to focus on early strength development."
   ]
  },
  {
   "cell_type": "code",
   "execution_count": null,
   "id": "2b1aedb8",
   "metadata": {},
   "outputs": [],
   "source": [
    "df['Month'] = (df['Age']//30)+1\n",
    "monthly = df.groupby('Month').agg({'Cement':'mean','Strength':'mean'}).reset_index()\n",
    "norm = plt.Normalize(monthly['Month'].min(), monthly['Month'].max())\n",
    "colors = cm.inferno(norm(monthly['Month']))\n",
    "fig=plt.figure(figsize=(10,7)); ax=fig.add_subplot(111, projection='3d')\n",
    "for i in range(len(monthly)-1):\n",
    "    xs=monthly.loc[i:i+1,'Month']; ys=monthly.loc[i:i+1,'Cement']; zs=monthly.loc[i:i+1,'Strength']\n",
    "    ax.plot(xs,ys,zs,color=colors[i],linewidth=3)\n",
    "mappable=cm.ScalarMappable(norm=norm,cmap='inferno'); mappable.set_array([])\n",
    "fig.colorbar(mappable,label='Month')\n",
    "ax.set_xlabel('Month'); ax.set_ylabel('Avg Cement'); ax.set_zlabel('Avg Strength')\n",
    "ax.set_title('Monthly Cement vs Strength')\n",
    "plt.savefig('MonthlyCementStrengthLine.png', dpi=300)\n",
    "plt.show()"
   ]
  },
  {
   "cell_type": "markdown",
   "id": "15306b51",
   "metadata": {},
   "source": [
    "## 3D Bar Plot: Aggregate Ratios vs Strength\n",
    "\n",
    "**Purpose and Rationale:** Compare average strength for binned ratios of Fine vs Coarse Aggregate to find optimal balance.\n",
    "\n",
    "**Big Takeaway:** Mid-range aggregate proportions yield the highest strength, not the extremes.\n",
    "\n",
    "- **What does this image show?** Bars showing mean Strength for bins of Fine and Coarse Aggregate.\n",
    "- **What is its highlight?** Peak bar near moderate Fine and Coarse values indicates balanced mix superiority.\n",
    "- **What can people learn?** Avoid extreme aggregate ratios; aim for moderate balance."
   ]
  },
  {
   "cell_type": "code",
   "execution_count": null,
   "id": "3240e3c2",
   "metadata": {},
   "outputs": [],
   "source": [
    "fa_bins=pd.cut(df['FineAggregate'],4); ca_bins=pd.cut(df['CoarseAggregate'],4)\n",
    "grp=df.groupby([fa_bins,ca_bins])['Strength'].mean().reset_index()\n",
    "grp['fa_mid']=grp['FineAggregate'].apply(lambda x:x.mid)\n",
    "grp['ca_mid']=grp['CoarseAggregate'].apply(lambda x:x.mid)\n",
    "x=grp['fa_mid']; y=grp['ca_mid']; z=np.zeros_like(x)\n",
    "dx=(x.max()-x.min())/6; dy=(y.max()-y.min())/6; dz=grp['Strength']\n",
    "fig=plt.figure(figsize=(10,7)); ax=fig.add_subplot(111, projection='3d')\n",
    "ax.bar3d(x,y,z,dx,dy,dz,shade=True)\n",
    "ax.set_xlabel('Fine Aggregate'); ax.set_ylabel('Coarse Aggregate'); ax.set_zlabel('Strength')\n",
    "ax.set_title('Aggregate Ratios vs Strength')\n",
    "plt.savefig('AggregateStrengthBar.png', dpi=300)\n",
    "plt.show()"
   ]
  }
 ],
 "metadata": {},
 "nbformat": 4,
 "nbformat_minor": 5
}
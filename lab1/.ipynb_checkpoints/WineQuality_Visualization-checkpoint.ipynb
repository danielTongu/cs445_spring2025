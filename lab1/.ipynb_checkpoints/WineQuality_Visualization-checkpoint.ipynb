{
 "cells": [
  {
   "cell_type": "markdown",
   "id": "ab03afda",
   "metadata": {},
   "source": [
    "# Wine Quality Data Analysis\n",
    "\n",
    "This notebook visualizes data from the UCI Wine Quality dataset.  \n",
    "The dataset contains physicochemical properties of red wine samples and their associated quality ratings (scored between 0 and 10).  \n",
    "Our goal is to create various plots using Matplotlib to explore and interpret aspects of the data.\n",
    "\n",
    "**Source**: [Wine Quality Dataset - UCI Repository](https://archive.ics.uci.edu/ml/datasets/Wine+Quality)"
   ]
  },
  {
   "cell_type": "code",
   "execution_count": null,
   "id": "5ac3bf3c",
   "metadata": {},
   "outputs": [],
   "source": [
    "import pandas as pd\n",
    "import matplotlib.pyplot as plt\n",
    "\n",
    "def load_wine_data(csv_path):\n",
    "    \"\"\"\n",
    "    Loads the red wine quality dataset from a CSV file.\n",
    "\n",
    "    @param csv_path: Path to the CSV file.\n",
    "    @return: DataFrame containing the wine data.\n",
    "    \"\"\"\n",
    "    df = pd.read_csv(csv_path, sep=';')\n",
    "    return df\n",
    "\n",
    "# Load and preview the dataset\n",
    "wine_data = load_wine_data('winequality-red.csv')\n",
    "\n",
    "# Display the first few rows of the dataset\n",
    "print(\"Wine Dataset Preview:\")\n",
    "print(wine_data.head())"
   ]
  },
  {
   "cell_type": "markdown",
   "id": "53509075",
   "metadata": {},
   "source": [
    "## Bar Chart: Wine Quality Distribution\n",
    "\n",
    "This bar chart shows how many wine samples received each quality score.  \n",
    "It helps us understand how the wines are distributed in terms of sensory ratings."
   ]
  },
  {
   "cell_type": "code",
   "execution_count": null,
   "id": "d269ac7e",
   "metadata": {},
   "outputs": [],
   "source": [
    "def plot_quality_distribution_bar_chart(dataframe):\n",
    "    \"\"\"\n",
    "    Creates a bar chart showing the distribution of wine quality ratings.\n",
    "\n",
    "    @param dataframe: DataFrame containing the wine data.\n",
    "    \"\"\"\n",
    "    quality_counts = dataframe['quality'].value_counts().sort_index()\n",
    "\n",
    "    plt.figure(figsize=(10, 6))\n",
    "    plt.bar(quality_counts.index, quality_counts.values)\n",
    "\n",
    "    plt.xlabel(\"Wine Quality Score\", fontsize=12)\n",
    "    plt.ylabel(\"Number of Samples\", fontsize=12)\n",
    "    plt.title(\"Wine Quality Distribution (Red Wine)\", fontsize=14)\n",
    "\n",
    "    plt.savefig(\"JohnDoe_WineQualityBarChart.png\")\n",
    "    plt.show()\n",
    "\n",
    "# Call the function to plot and save the bar chart\n",
    "plot_quality_distribution_bar_chart(wine_data)"
   ]
  }
 ],
 "metadata": {},
 "nbformat": 4,
 "nbformat_minor": 5
}

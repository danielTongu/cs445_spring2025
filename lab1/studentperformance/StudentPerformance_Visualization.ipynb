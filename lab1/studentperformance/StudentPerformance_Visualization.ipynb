{
 "cells": [
  {
   "cell_type": "markdown",
   "id": "3d50f224",
   "metadata": {},
   "source": [
    "# Student Performance Data Analysis\n",
    "\n",
    "This notebook visualizes data from the UCI Student Performance dataset.  \n",
    "We use the `student-mat.csv` file, which contains information on students' performance in a mathematics course, including demographics, academic metrics, and family background.\n",
    "\n",
    "**Source**: [Student Performance Dataset - UCI Repository](https://archive.ics.uci.edu/ml/datasets/Student+Performance)"
   ]
  },
  {
   "cell_type": "code",
   "execution_count": null,
   "id": "47da237d",
   "metadata": {},
   "outputs": [],
   "source": [
    "import pandas as pd\n",
    "import matplotlib.pyplot as plt\n",
    "\n",
    "def load_student_data(csv_path):\n",
    "    \"\"\"\n",
    "    Loads the student performance dataset from a CSV file.\n",
    "\n",
    "    @param csv_path: Path to the CSV file.\n",
    "    @return: DataFrame containing student data.\n",
    "    \"\"\"\n",
    "    df = pd.read_csv(csv_path, sep=';')\n",
    "    return df\n",
    "\n",
    "# Load and preview the dataset\n",
    "student_data = load_student_data('student-mat.csv')\n",
    "\n",
    "# Display the first few rows of the dataset\n",
    "print(\"Student Dataset Preview:\")\n",
    "print(student_data.head())"
   ]
  },
  {
   "cell_type": "markdown",
   "id": "5dbc67af",
   "metadata": {},
   "source": [
    "## Bar Chart: Students per Grade Group\n",
    "\n",
    "This bar chart shows how students are distributed across final grade (G3) groupings.  \n",
    "We categorize grades into ranges (e.g., 0–4, 5–9, etc.) and count how many students fall into each."
   ]
  },
  {
   "cell_type": "code",
   "execution_count": null,
   "id": "2e6fc69b",
   "metadata": {},
   "outputs": [],
   "source": [
    "def plot_grade_group_bar_chart(dataframe):\n",
    "    \"\"\"\n",
    "    Creates a bar chart showing the number of students per G3 grade group.\n",
    "\n",
    "    @param dataframe: DataFrame containing student performance data.\n",
    "    \"\"\"\n",
    "    # Define grade bins\n",
    "    bins = [0, 4, 9, 14, 20]\n",
    "    labels = ['0–4', '5–9', '10–14', '15–20']\n",
    "    dataframe['grade_group'] = pd.cut(dataframe['G3'], bins=bins, labels=labels, include_lowest=True)\n",
    "\n",
    "    group_counts = dataframe['grade_group'].value_counts().sort_index()\n",
    "\n",
    "    plt.figure(figsize=(10, 6))\n",
    "    plt.bar(group_counts.index.astype(str), group_counts.values)\n",
    "\n",
    "    plt.xlabel(\"Final Grade Group (G3)\", fontsize=12)\n",
    "    plt.ylabel(\"Number of Students\", fontsize=12)\n",
    "    plt.title(\"Student Distribution by Final Grade Group\", fontsize=14)\n",
    "\n",
    "    plt.savefig(\"JohnDoe_StudentGradeBarChart.png\")\n",
    "    plt.show()\n",
    "\n",
    "# Call the function to generate the chart\n",
    "plot_grade_group_bar_chart(student_data)"
   ]
  },
  {
   "cell_type": "markdown",
   "id": "0a0155ba",
   "metadata": {},
   "source": [
    "## Line Graph: Average Final Grade vs. Study Time\n",
    "\n",
    "This line graph shows the relationship between the amount of study time and the average final grade (G3).  \n",
    "It helps us understand how study time may impact academic performance."
   ]
  },
  {
   "cell_type": "code",
   "execution_count": null,
   "id": "c76c5d1d",
   "metadata": {},
   "outputs": [],
   "source": [
    "def plot_study_time_vs_grade_line_graph(dataframe):\n",
    "    \"\"\"\n",
    "    Creates a line graph showing average final grade vs. study time.\n",
    "\n",
    "    @param dataframe: DataFrame containing student performance data.\n",
    "    \"\"\"\n",
    "    grouped_data = dataframe.groupby('studytime')['G3'].mean()\n",
    "\n",
    "    plt.figure(figsize=(10, 6))\n",
    "    plt.plot(grouped_data.index, grouped_data.values, marker='o')\n",
    "\n",
    "    plt.xlabel(\"Weekly Study Time (1= <2 hrs, 4= >10 hrs)\", fontsize=12)\n",
    "    plt.ylabel(\"Average Final Grade (G3)\", fontsize=12)\n",
    "    plt.title(\"Study Time vs Final Grade\", fontsize=14)\n",
    "\n",
    "    plt.savefig(\"JohnDoe_StudyTimeLineGraph.png\")\n",
    "    plt.show()\n",
    "\n",
    "# Call the function\n",
    "plot_study_time_vs_grade_line_graph(student_data)"
   ]
  },
  {
   "cell_type": "markdown",
   "id": "849212ec",
   "metadata": {},
   "source": [
    "## Pie Chart: Parental Education Level Distribution\n",
    "\n",
    "This pie chart visualizes the distribution of the father’s education levels (`Fedu`).  \n",
    "It gives us insight into the background diversity of the student group."
   ]
  },
  {
   "cell_type": "code",
   "execution_count": null,
   "id": "2725abec",
   "metadata": {},
   "outputs": [],
   "source": [
    "def plot_parental_education_pie_chart(dataframe):\n",
    "    \"\"\"\n",
    "    Creates a pie chart of the distribution of father's education levels.\n",
    "\n",
    "    @param dataframe: DataFrame containing student performance data.\n",
    "    \"\"\"\n",
    "    edu_counts = dataframe['Fedu'].value_counts().sort_index()\n",
    "    labels = ['None', 'Primary (4)', '5th–9th', 'Secondary', 'Higher']\n",
    "\n",
    "    plt.figure(figsize=(8, 8))\n",
    "    plt.pie(edu_counts, labels=labels[:len(edu_counts)], autopct='%1.1f%%', startangle=140)\n",
    "    plt.title(\"Father's Education Level Distribution\", fontsize=14)\n",
    "    plt.savefig(\"JohnDoe_ParentalEducationPieChart.png\")\n",
    "    plt.show()\n",
    "\n",
    "# Call the function\n",
    "plot_parental_education_pie_chart(student_data)"
   ]
  },
  {
   "cell_type": "markdown",
   "id": "38114482",
   "metadata": {},
   "source": [
    "## Box Plot: Final Grade Distribution (G3)\n",
    "\n",
    "This box chart displays the spread and outliers in final grades of the students.  \n",
    "It helps visualize central tendency and variability."
   ]
  },
  {
   "cell_type": "code",
   "execution_count": null,
   "id": "047dbe45",
   "metadata": {},
   "outputs": [],
   "source": [
    "def plot_final_grade_box_chart(dataframe):\n",
    "    \"\"\"\n",
    "    Creates a box plot to show distribution of final grades (G3).\n",
    "\n",
    "    @param dataframe: DataFrame containing student performance data.\n",
    "    \"\"\"\n",
    "    plt.figure(figsize=(8, 6))\n",
    "    plt.boxplot(dataframe['G3'])\n",
    "\n",
    "    plt.ylabel(\"Final Grade (G3)\", fontsize=12)\n",
    "    plt.title(\"Distribution of Final Grades\", fontsize=14)\n",
    "    plt.savefig(\"JohnDoe_FinalGradeBoxPlot.png\")\n",
    "    plt.show()\n",
    "\n",
    "# Call the function\n",
    "plot_final_grade_box_chart(student_data)"
   ]
  }
 ],
 "metadata": {
  "kernelspec": {
   "display_name": "Python [conda env:base] *",
   "language": "python",
   "name": "conda-base-py"
  },
  "language_info": {
   "codemirror_mode": {
    "name": "ipython",
    "version": 3
   },
   "file_extension": ".py",
   "mimetype": "text/x-python",
   "name": "python",
   "nbconvert_exporter": "python",
   "pygments_lexer": "ipython3",
   "version": "3.12.7"
  }
 },
 "nbformat": 4,
 "nbformat_minor": 5
}

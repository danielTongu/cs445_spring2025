{
 "cells": [
  {
   "cell_type": "markdown",
   "id": "744e89a3",
   "metadata": {},
   "source": [
    "# Credit Card Fraud Detection Visualizations\n",
    "**Team:** Fraud Detectives  \n",
    "**Course:** CS 445/545 Final Project Stage 2  \n",
    "**Dataset:** Kaggle Credit Card Fraud Detection"
   ]
  },
  {
   "cell_type": "markdown",
   "id": "62eaae8e",
   "metadata": {},
   "source": [
    "Building on Stage 1, we're analyzing the Kaggle Credit Card Fraud Detection dataset (284,807 transactions). \n",
    "\n",
    "While most features are PCA-transformed (V1-V28), we'll create meaningful visualizations focusing on:\n",
    "\n",
    "•\tThe two interpretable features (Time, Amount)\n",
    "\n",
    "•\tRelationships with the Class label (fraud/not fraud)\n",
    "\n",
    "•\tStrategic use of PCA components where patterns emerge\n"
   ]
  },
  {
   "cell_type": "markdown",
   "id": "f4dbd249",
   "metadata": {},
   "source": [
    "## Setup & Data Loading"
   ]
  },
  {
   "cell_type": "code",
   "execution_count": 59,
   "id": "98356180",
   "metadata": {},
   "outputs": [
    {
     "data": {
      "text/html": [
       "<div>\n",
       "<style scoped>\n",
       "    .dataframe tbody tr th:only-of-type {\n",
       "        vertical-align: middle;\n",
       "    }\n",
       "\n",
       "    .dataframe tbody tr th {\n",
       "        vertical-align: top;\n",
       "    }\n",
       "\n",
       "    .dataframe thead th {\n",
       "        text-align: right;\n",
       "    }\n",
       "</style>\n",
       "<table border=\"1\" class=\"dataframe\">\n",
       "  <thead>\n",
       "    <tr style=\"text-align: right;\">\n",
       "      <th></th>\n",
       "      <th>Time</th>\n",
       "      <th>V1</th>\n",
       "      <th>V2</th>\n",
       "      <th>V3</th>\n",
       "      <th>V4</th>\n",
       "      <th>V5</th>\n",
       "      <th>V6</th>\n",
       "      <th>V7</th>\n",
       "      <th>V8</th>\n",
       "      <th>V9</th>\n",
       "      <th>...</th>\n",
       "      <th>V24</th>\n",
       "      <th>V25</th>\n",
       "      <th>V26</th>\n",
       "      <th>V27</th>\n",
       "      <th>V28</th>\n",
       "      <th>Amount</th>\n",
       "      <th>Class</th>\n",
       "      <th>Hour</th>\n",
       "      <th>Day</th>\n",
       "      <th>Time_Hours</th>\n",
       "    </tr>\n",
       "  </thead>\n",
       "  <tbody>\n",
       "    <tr>\n",
       "      <th>0</th>\n",
       "      <td>0.0</td>\n",
       "      <td>-1.359807</td>\n",
       "      <td>-0.072781</td>\n",
       "      <td>2.536347</td>\n",
       "      <td>1.378155</td>\n",
       "      <td>-0.338321</td>\n",
       "      <td>0.462388</td>\n",
       "      <td>0.239599</td>\n",
       "      <td>0.098698</td>\n",
       "      <td>0.363787</td>\n",
       "      <td>...</td>\n",
       "      <td>0.066928</td>\n",
       "      <td>0.128539</td>\n",
       "      <td>-0.189115</td>\n",
       "      <td>0.133558</td>\n",
       "      <td>-0.021053</td>\n",
       "      <td>149.62</td>\n",
       "      <td>0</td>\n",
       "      <td>0.0</td>\n",
       "      <td>0.0</td>\n",
       "      <td>0.000000</td>\n",
       "    </tr>\n",
       "    <tr>\n",
       "      <th>1</th>\n",
       "      <td>0.0</td>\n",
       "      <td>1.191857</td>\n",
       "      <td>0.266151</td>\n",
       "      <td>0.166480</td>\n",
       "      <td>0.448154</td>\n",
       "      <td>0.060018</td>\n",
       "      <td>-0.082361</td>\n",
       "      <td>-0.078803</td>\n",
       "      <td>0.085102</td>\n",
       "      <td>-0.255425</td>\n",
       "      <td>...</td>\n",
       "      <td>-0.339846</td>\n",
       "      <td>0.167170</td>\n",
       "      <td>0.125895</td>\n",
       "      <td>-0.008983</td>\n",
       "      <td>0.014724</td>\n",
       "      <td>2.69</td>\n",
       "      <td>0</td>\n",
       "      <td>0.0</td>\n",
       "      <td>0.0</td>\n",
       "      <td>0.000000</td>\n",
       "    </tr>\n",
       "    <tr>\n",
       "      <th>2</th>\n",
       "      <td>1.0</td>\n",
       "      <td>-1.358354</td>\n",
       "      <td>-1.340163</td>\n",
       "      <td>1.773209</td>\n",
       "      <td>0.379780</td>\n",
       "      <td>-0.503198</td>\n",
       "      <td>1.800499</td>\n",
       "      <td>0.791461</td>\n",
       "      <td>0.247676</td>\n",
       "      <td>-1.514654</td>\n",
       "      <td>...</td>\n",
       "      <td>-0.689281</td>\n",
       "      <td>-0.327642</td>\n",
       "      <td>-0.139097</td>\n",
       "      <td>-0.055353</td>\n",
       "      <td>-0.059752</td>\n",
       "      <td>378.66</td>\n",
       "      <td>0</td>\n",
       "      <td>0.0</td>\n",
       "      <td>0.0</td>\n",
       "      <td>0.000278</td>\n",
       "    </tr>\n",
       "    <tr>\n",
       "      <th>3</th>\n",
       "      <td>1.0</td>\n",
       "      <td>-0.966272</td>\n",
       "      <td>-0.185226</td>\n",
       "      <td>1.792993</td>\n",
       "      <td>-0.863291</td>\n",
       "      <td>-0.010309</td>\n",
       "      <td>1.247203</td>\n",
       "      <td>0.237609</td>\n",
       "      <td>0.377436</td>\n",
       "      <td>-1.387024</td>\n",
       "      <td>...</td>\n",
       "      <td>-1.175575</td>\n",
       "      <td>0.647376</td>\n",
       "      <td>-0.221929</td>\n",
       "      <td>0.062723</td>\n",
       "      <td>0.061458</td>\n",
       "      <td>123.50</td>\n",
       "      <td>0</td>\n",
       "      <td>0.0</td>\n",
       "      <td>0.0</td>\n",
       "      <td>0.000278</td>\n",
       "    </tr>\n",
       "    <tr>\n",
       "      <th>4</th>\n",
       "      <td>2.0</td>\n",
       "      <td>-1.158233</td>\n",
       "      <td>0.877737</td>\n",
       "      <td>1.548718</td>\n",
       "      <td>0.403034</td>\n",
       "      <td>-0.407193</td>\n",
       "      <td>0.095921</td>\n",
       "      <td>0.592941</td>\n",
       "      <td>-0.270533</td>\n",
       "      <td>0.817739</td>\n",
       "      <td>...</td>\n",
       "      <td>0.141267</td>\n",
       "      <td>-0.206010</td>\n",
       "      <td>0.502292</td>\n",
       "      <td>0.219422</td>\n",
       "      <td>0.215153</td>\n",
       "      <td>69.99</td>\n",
       "      <td>0</td>\n",
       "      <td>0.0</td>\n",
       "      <td>0.0</td>\n",
       "      <td>0.000556</td>\n",
       "    </tr>\n",
       "  </tbody>\n",
       "</table>\n",
       "<p>5 rows × 34 columns</p>\n",
       "</div>"
      ],
      "text/plain": [
       "   Time        V1        V2        V3        V4        V5        V6        V7  \\\n",
       "0   0.0 -1.359807 -0.072781  2.536347  1.378155 -0.338321  0.462388  0.239599   \n",
       "1   0.0  1.191857  0.266151  0.166480  0.448154  0.060018 -0.082361 -0.078803   \n",
       "2   1.0 -1.358354 -1.340163  1.773209  0.379780 -0.503198  1.800499  0.791461   \n",
       "3   1.0 -0.966272 -0.185226  1.792993 -0.863291 -0.010309  1.247203  0.237609   \n",
       "4   2.0 -1.158233  0.877737  1.548718  0.403034 -0.407193  0.095921  0.592941   \n",
       "\n",
       "         V8        V9  ...       V24       V25       V26       V27       V28  \\\n",
       "0  0.098698  0.363787  ...  0.066928  0.128539 -0.189115  0.133558 -0.021053   \n",
       "1  0.085102 -0.255425  ... -0.339846  0.167170  0.125895 -0.008983  0.014724   \n",
       "2  0.247676 -1.514654  ... -0.689281 -0.327642 -0.139097 -0.055353 -0.059752   \n",
       "3  0.377436 -1.387024  ... -1.175575  0.647376 -0.221929  0.062723  0.061458   \n",
       "4 -0.270533  0.817739  ...  0.141267 -0.206010  0.502292  0.219422  0.215153   \n",
       "\n",
       "   Amount  Class  Hour  Day  Time_Hours  \n",
       "0  149.62      0   0.0  0.0    0.000000  \n",
       "1    2.69      0   0.0  0.0    0.000000  \n",
       "2  378.66      0   0.0  0.0    0.000278  \n",
       "3  123.50      0   0.0  0.0    0.000278  \n",
       "4   69.99      0   0.0  0.0    0.000556  \n",
       "\n",
       "[5 rows x 34 columns]"
      ]
     },
     "execution_count": 59,
     "metadata": {},
     "output_type": "execute_result"
    }
   ],
   "source": [
    "# Install kagglehub package, if not already installed\n",
    "try:\n",
    "    import kagglehub\n",
    "except ImportError:\n",
    "    import subprocess\n",
    "    import sys\n",
    "\n",
    "    # Install kagglehub using pip\n",
    "    subprocess.check_call([sys.executable, \"-m\", \"pip\", \"install\", \"kagglehub\"])\n",
    "    import kagglehub\n",
    "\n",
    "\n",
    "# Import necessary libraries\n",
    "import pandas as pd\n",
    "import numpy as np\n",
    "import matplotlib.pyplot as plt\n",
    "import seaborn as sns\n",
    "import plotly.express as px\n",
    "from plotly.subplots import make_subplots\n",
    "import plotly.graph_objects as go\n",
    "\n",
    "\n",
    "# Download latest version\n",
    "path = kagglehub.dataset_download(\"mlg-ulb/creditcardfraud\")\n",
    "\n",
    "# Load dataset\n",
    "df = pd.read_csv(f\"{path}/creditcard.csv\")\n",
    "\n",
    "\n",
    "# Convert Time to hours and create day/hour features\n",
    "df['Hour'] = (df['Time'] // 3600) % 24\n",
    "df['Day'] = (df['Time'] // (3600*24))\n",
    "df['Time_Hours'] = df['Time'] / 3600\n",
    "\n",
    "# Display first few rows of the dataset\n",
    "df.head()"
   ]
  },
  {
   "cell_type": "markdown",
   "id": "bf627307",
   "metadata": {},
   "source": [
    "## Member 1: Temporal & Amount Analysis"
   ]
  },
  {
   "cell_type": "markdown",
   "id": "c56dd56b",
   "metadata": {},
   "source": [
    "### 1. Fraud Hourly Heatmap\n",
    "\n",
    "•   **Type:** Calendar heatmap (hours vs days) with fraud counts\n",
    "\n",
    "•   **Rationale:** Reveals if fraud concentrates at specific hours/days\n",
    "\n",
    "•   **Insight:** Identify peak fraud periods (e.g., midnight, weekends)"
   ]
  },
  {
   "cell_type": "code",
   "execution_count": 60,
   "id": "d411a8d7",
   "metadata": {},
   "outputs": [
    {
     "data": {
      "image/png": "[encoded data removed]",
      "text/plain": [
       "<Figure size 1600x600 with 2 Axes>"
      ]
     },
     "metadata": {},
     "output_type": "display_data"
    }
   ],
   "source": [
    "# Prepare heatmap data\n",
    "heatmap_data = df[df['Class'] == 1].groupby(['Day', 'Hour']).size().unstack().fillna(0)\n",
    "\n",
    "plt.figure(figsize=(16, 6))\n",
    "sns.heatmap(heatmap_data, cmap='YlOrRd', linewidths=0.5)\n",
    "plt.title('Fraud Cases by Day and Hour', fontsize=14)\n",
    "plt.xlabel('Hour of Day', fontsize=12)\n",
    "plt.ylabel('Day of Dataset', fontsize=12)\n",
    "plt.show()"
   ]
  },
  {
   "cell_type": "markdown",
   "id": "8f9ed041",
   "metadata": {},
   "source": [
    "### 2. Transaction Amount Distribution by Class\n",
    "\n",
    "•   **Type:** Overlaid histograms (log-scale) for fraud vs legitimate\n",
    "\n",
    "•   **Rationale:** Shows if fraud targets small (stealth) or large (high-value) transactions\n",
    "\n",
    "•   **Insight:** Expected bi-modal pattern - small everyday fraud vs occasional big attacks"
   ]
  },
  {
   "cell_type": "code",
   "execution_count": 61,
   "id": "1db2e58e",
   "metadata": {},
   "outputs": [
    {
     "data": {
      "image/png": "[encoded data removed]",
      "text/plain": [
       "<Figure size 1600x600 with 1 Axes>"
      ]
     },
     "metadata": {},
     "output_type": "display_data"
    }
   ],
   "source": [
    "plt.figure(figsize=(10, 6))\n",
    "plt.hist(df[df['Class'] == 0]['Amount'], bins=50, alpha=0.7, label='Legitimate', log=True)\n",
    "plt.hist(df[df['Class'] == 1]['Amount'], bins=50, alpha=0.7, label='Fraud', color='red', log=True)\n",
    "plt.title('Transaction Amount Distribution by Class (Log Scale)')\n",
    "plt.xlabel('Amount (€)')\n",
    "plt.ylabel('Count (log)')\n",
    "plt.legend()\n",
    "\n",
    "# widen the x-axis\n",
    "plt.xlim(0, 10000)\n",
    "plt.xticks(np.arange(0, 10001, 1000))\n",
    "plt.grid(axis='y', linestyle='--', alpha=0.7)\n",
    "\n",
    "# increase size of the graph\n",
    "plt.gcf().set_size_inches(16, 6)\n",
    "plt.show()"
   ]
  },
  {
   "cell_type": "markdown",
   "id": "2cdee014",
   "metadata": {},
   "source": [
    "### 3. Cumulative Fraud Timeline\n",
    "\n",
    "•   **Type:** Area chart showing fraud accumulation over 48 hours\n",
    "\n",
    "•   **Rationale:** Detects \"fraud bursts\" suggesting coordinated attacks\n",
    "\n",
    "•   **Insight:** Sudden spikes may indicate fraud rings activating "
   ]
  },
  {
   "cell_type": "code",
   "execution_count": 62,
   "id": "a94464e8",
   "metadata": {},
   "outputs": [
    {
     "data": {
      "image/png": "[encoded data removed]",
      "text/plain": [
       "<Figure size 1600x600 with 1 Axes>"
      ]
     },
     "metadata": {},
     "output_type": "display_data"
    }
   ],
   "source": [
    "# Get all fraud transactions sorted by time\n",
    "fraud_df = df[df['Class'] == 1].sort_values('Time_Hours')\n",
    "\n",
    "# Create cumulative count of fraud cases\n",
    "fraud_cumulative = fraud_df['Class'].cumsum()\n",
    "\n",
    "# Create matching time points for each fraud case\n",
    "time_points = fraud_df['Time_Hours']\n",
    "\n",
    "plt.figure(figsize=(12, 6))\n",
    "plt.plot(time_points, fraud_cumulative, color='red', linewidth=2)\n",
    "plt.title('Cumulative Fraud Cases Over Time', fontsize=14)\n",
    "plt.xlabel('Hours Since First Transaction', fontsize=12)\n",
    "plt.ylabel('Total Fraud Cases', fontsize=12)\n",
    "plt.grid(True, alpha=0.3)\n",
    "plt.gcf().set_size_inches(16, 6)\n",
    "\n",
    "# Add markers for better visibility of individual fraud cases\n",
    "plt.scatter(time_points, fraud_cumulative, color='darkred', s=10, alpha=0.7)\n",
    "\n",
    "plt.show()"
   ]
  },
  {
   "cell_type": "markdown",
   "id": "42bcccd3",
   "metadata": {},
   "source": [
    "## Member 2: PCA Component Exploration"
   ]
  },
  {
   "cell_type": "markdown",
   "id": "e16f219d",
   "metadata": {},
   "source": [
    "### 1. PCA Component Radar Chart\n",
    "\n",
    "•\t**Type:** Radar chart comparing mean values of V1-V5 for fraud vs normal\n",
    "\n",
    "•\t**Rationale:** Identifies which transformed dimensions differ most\n",
    "\n",
    "•\t**Insight:** Even without original meaning, shows detectable fraud signatures"
   ]
  },
  {
   "cell_type": "code",
   "execution_count": 63,
   "id": "efa9d3d4",
   "metadata": {},
   "outputs": [
    {
     "data": {
      "application/vnd.plotly.v1+json": {
       "config": {
        "plotlyServerURL": "https://plot.ly"
       },
       "data": [
        {
         "fill": "toself",
         "name": "Fraud",
         "r": [
          -4.771948441479082,
          3.6237781019822806,
          -7.0332810485965584,
          4.542029104423092,
          -3.151224885936005
         ],
         "theta": [
          "V1",
          "V2",
          "V3",
          "V4",
          "V5"
         ],
         "type": "scatterpolar"
        },
        {
         "fill": "toself",
         "name": "Normal",
         "r": [
          0.00825773748556368,
          -0.006270857415807067,
          0.01217091703184535,
          -0.00785986782046519,
          0.005453115888647496
         ],
         "theta": [
          "V1",
          "V2",
          "V3",
          "V4",
          "V5"
         ],
         "type": "scatterpolar"
        }
       ],
       "layout": {
        "height": 800,
        "legend": {
         "font": {
          "size": 14
         }
        },
        "polar": {
         "radialaxis": {
          "visible": true
         }
        },
        "showlegend": true,
        "template": {
         "data": {
          "bar": [
           {
            "error_x": {
             "color": "#2a3f5f"
            },
            "error_y": {
             "color": "#2a3f5f"
            },
            "marker": {
             "line": {
              "color": "#E5ECF6",
              "width": 0.5
             },
             "pattern": {
              "fillmode": "overlay",
              "size": 10,
              "solidity": 0.2
             }
            },
            "type": "bar"
           }
          ],
          "barpolar": [
           {
            "marker": {
             "line": {
              "color": "#E5ECF6",
              "width": 0.5
             },
             "pattern": {
              "fillmode": "overlay",
              "size": 10,
              "solidity": 0.2
             }
            },
            "type": "barpolar"
           }
          ],
          "carpet": [
           {
            "aaxis": {
             "endlinecolor": "#2a3f5f",
             "gridcolor": "white",
             "linecolor": "white",
             "minorgridcolor": "white",
             "startlinecolor": "#2a3f5f"
            },
            "baxis": {
             "endlinecolor": "#2a3f5f",
             "gridcolor": "white",
             "linecolor": "white",
             "minorgridcolor": "white",
             "startlinecolor": "#2a3f5f"
            },
            "type": "carpet"
           }
          ],
          "choropleth": [
           {
            "colorbar": {
             "outlinewidth": 0,
             "ticks": ""
            },
            "type": "choropleth"
           }
          ],
          "contour": [
           {
            "colorbar": {
             "outlinewidth": 0,
             "ticks": ""
            },
            "colorscale": [
             [
              0,
              "#0d0887"
             ],
             [
              0.1111111111111111,
              "#46039f"
             ],
             [
              0.2222222222222222,
              "#7201a8"
             ],
             [
              0.3333333333333333,
              "#9c179e"
             ],
             [
              0.4444444444444444,
              "#bd3786"
             ],
             [
              0.5555555555555556,
              "#d8576b"
             ],
             [
              0.6666666666666666,
              "#ed7953"
             ],
             [
              0.7777777777777778,
              "#fb9f3a"
             ],
             [
              0.8888888888888888,
              "#fdca26"
             ],
             [
              1,
              "#f0f921"
             ]
            ],
            "type": "contour"
           }
          ],
          "contourcarpet": [
           {
            "colorbar": {
             "outlinewidth": 0,
             "ticks": ""
            },
            "type": "contourcarpet"
           }
          ],
          "heatmap": [
           {
            "colorbar": {
             "outlinewidth": 0,
             "ticks": ""
            },
            "colorscale": [
             [
              0,
              "#0d0887"
             ],
             [
              0.1111111111111111,
              "#46039f"
             ],
             [
              0.2222222222222222,
              "#7201a8"
             ],
             [
              0.3333333333333333,
              "#9c179e"
             ],
             [
              0.4444444444444444,
              "#bd3786"
             ],
             [
              0.5555555555555556,
              "#d8576b"
             ],
             [
              0.6666666666666666,
              "#ed7953"
             ],
             [
              0.7777777777777778,
              "#fb9f3a"
             ],
             [
              0.8888888888888888,
              "#fdca26"
             ],
             [
              1,
              "#f0f921"
             ]
            ],
            "type": "heatmap"
           }
          ],
          "heatmapgl": [
           {
            "colorbar": {
             "outlinewidth": 0,
             "ticks": ""
            },
            "colorscale": [
             [
              0,
              "#0d0887"
             ],
             [
              0.1111111111111111,
              "#46039f"
             ],
             [
              0.2222222222222222,
              "#7201a8"
             ],
             [
              0.3333333333333333,
              "#9c179e"
             ],
             [
              0.4444444444444444,
              "#bd3786"
             ],
             [
              0.5555555555555556,
              "#d8576b"
             ],
             [
              0.6666666666666666,
              "#ed7953"
             ],
             [
              0.7777777777777778,
              "#fb9f3a"
             ],
             [
              0.8888888888888888,
              "#fdca26"
             ],
             [
              1,
              "#f0f921"
             ]
            ],
            "type": "heatmapgl"
           }
          ],
          "histogram": [
           {
            "marker": {
             "pattern": {
              "fillmode": "overlay",
              "size": 10,
              "solidity": 0.2
             }
            },
            "type": "histogram"
           }
          ],
          "histogram2d": [
           {
            "colorbar": {
             "outlinewidth": 0,
             "ticks": ""
            },
            "colorscale": [
             [
              0,
              "#0d0887"
             ],
             [
              0.1111111111111111,
              "#46039f"
             ],
             [
              0.2222222222222222,
              "#7201a8"
             ],
             [
              0.3333333333333333,
              "#9c179e"
             ],
             [
              0.4444444444444444,
              "#bd3786"
             ],
             [
              0.5555555555555556,
              "#d8576b"
             ],
             [
              0.6666666666666666,
              "#ed7953"
             ],
             [
              0.7777777777777778,
              "#fb9f3a"
             ],
             [
              0.8888888888888888,
              "#fdca26"
             ],
             [
              1,
              "#f0f921"
             ]
            ],
            "type": "histogram2d"
           }
          ],
          "histogram2dcontour": [
           {
            "colorbar": {
             "outlinewidth": 0,
             "ticks": ""
            },
            "colorscale": [
             [
              0,
              "#0d0887"
             ],
             [
              0.1111111111111111,
              "#46039f"
             ],
             [
              0.2222222222222222,
              "#7201a8"
             ],
             [
              0.3333333333333333,
              "#9c179e"
             ],
             [
              0.4444444444444444,
              "#bd3786"
             ],
             [
              0.5555555555555556,
              "#d8576b"
             ],
             [
              0.6666666666666666,
              "#ed7953"
             ],
             [
              0.7777777777777778,
              "#fb9f3a"
             ],
             [
              0.8888888888888888,
              "#fdca26"
             ],
             [
              1,
              "#f0f921"
             ]
            ],
            "type": "histogram2dcontour"
           }
          ],
          "mesh3d": [
           {
            "colorbar": {
             "outlinewidth": 0,
             "ticks": ""
            },
            "type": "mesh3d"
           }
          ],
          "parcoords": [
           {
            "line": {
             "colorbar": {
              "outlinewidth": 0,
              "ticks": ""
             }
            },
            "type": "parcoords"
           }
          ],
          "pie": [
           {
            "automargin": true,
            "type": "pie"
           }
          ],
          "scatter": [
           {
            "fillpattern": {
             "fillmode": "overlay",
             "size": 10,
             "solidity": 0.2
            },
            "type": "scatter"
           }
          ],
          "scatter3d": [
           {
            "line": {
             "colorbar": {
              "outlinewidth": 0,
              "ticks": ""
             }
            },
            "marker": {
             "colorbar": {
              "outlinewidth": 0,
              "ticks": ""
             }
            },
            "type": "scatter3d"
           }
          ],
          "scattercarpet": [
           {
            "marker": {
             "colorbar": {
              "outlinewidth": 0,
              "ticks": ""
             }
            },
            "type": "scattercarpet"
           }
          ],
          "scattergeo": [
           {
            "marker": {
             "colorbar": {
              "outlinewidth": 0,
              "ticks": ""
             }
            },
            "type": "scattergeo"
           }
          ],
          "scattergl": [
           {
            "marker": {
             "colorbar": {
              "outlinewidth": 0,
              "ticks": ""
             }
            },
            "type": "scattergl"
           }
          ],
          "scattermapbox": [
           {
            "marker": {
             "colorbar": {
              "outlinewidth": 0,
              "ticks": ""
             }
            },
            "type": "scattermapbox"
           }
          ],
          "scatterpolar": [
           {
            "marker": {
             "colorbar": {
              "outlinewidth": 0,
              "ticks": ""
             }
            },
            "type": "scatterpolar"
           }
          ],
          "scatterpolargl": [
           {
            "marker": {
             "colorbar": {
              "outlinewidth": 0,
              "ticks": ""
             }
            },
            "type": "scatterpolargl"
           }
          ],
          "scatterternary": [
           {
            "marker": {
             "colorbar": {
              "outlinewidth": 0,
              "ticks": ""
             }
            },
            "type": "scatterternary"
           }
          ],
          "surface": [
           {
            "colorbar": {
             "outlinewidth": 0,
             "ticks": ""
            },
            "colorscale": [
             [
              0,
              "#0d0887"
             ],
             [
              0.1111111111111111,
              "#46039f"
             ],
             [
              0.2222222222222222,
              "#7201a8"
             ],
             [
              0.3333333333333333,
              "#9c179e"
             ],
             [
              0.4444444444444444,
              "#bd3786"
             ],
             [
              0.5555555555555556,
              "#d8576b"
             ],
             [
              0.6666666666666666,
              "#ed7953"
             ],
             [
              0.7777777777777778,
              "#fb9f3a"
             ],
             [
              0.8888888888888888,
              "#fdca26"
             ],
             [
              1,
              "#f0f921"
             ]
            ],
            "type": "surface"
           }
          ],
          "table": [
           {
            "cells": {
             "fill": {
              "color": "#EBF0F8"
             },
             "line": {
              "color": "white"
             }
            },
            "header": {
             "fill": {
              "color": "#C8D4E3"
             },
             "line": {
              "color": "white"
             }
            },
            "type": "table"
           }
          ]
         },
         "layout": {
          "annotationdefaults": {
           "arrowcolor": "#2a3f5f",
           "arrowhead": 0,
           "arrowwidth": 1
          },
          "autotypenumbers": "strict",
          "coloraxis": {
           "colorbar": {
            "outlinewidth": 0,
            "ticks": ""
           }
          },
          "colorscale": {
           "diverging": [
            [
             0,
             "#8e0152"
            ],
            [
             0.1,
             "#c51b7d"
            ],
            [
             0.2,
             "#de77ae"
            ],
            [
             0.3,
             "#f1b6da"
            ],
            [
             0.4,
             "#fde0ef"
            ],
            [
             0.5,
             "#f7f7f7"
            ],
            [
             0.6,
             "#e6f5d0"
            ],
            [
             0.7,
             "#b8e186"
            ],
            [
             0.8,
             "#7fbc41"
            ],
            [
             0.9,
             "#4d9221"
            ],
            [
             1,
             "#276419"
            ]
           ],
           "sequential": [
            [
             0,
             "#0d0887"
            ],
            [
             0.1111111111111111,
             "#46039f"
            ],
            [
             0.2222222222222222,
             "#7201a8"
            ],
            [
             0.3333333333333333,
             "#9c179e"
            ],
            [
             0.4444444444444444,
             "#bd3786"
            ],
            [
             0.5555555555555556,
             "#d8576b"
            ],
            [
             0.6666666666666666,
             "#ed7953"
            ],
            [
             0.7777777777777778,
             "#fb9f3a"
            ],
            [
             0.8888888888888888,
             "#fdca26"
            ],
            [
             1,
             "#f0f921"
            ]
           ],
           "sequentialminus": [
            [
             0,
             "#0d0887"
            ],
            [
             0.1111111111111111,
             "#46039f"
            ],
            [
             0.2222222222222222,
             "#7201a8"
            ],
            [
             0.3333333333333333,
             "#9c179e"
            ],
            [
             0.4444444444444444,
             "#bd3786"
            ],
            [
             0.5555555555555556,
             "#d8576b"
            ],
            [
             0.6666666666666666,
             "#ed7953"
            ],
            [
             0.7777777777777778,
             "#fb9f3a"
            ],
            [
             0.8888888888888888,
             "#fdca26"
            ],
            [
             1,
             "#f0f921"
            ]
           ]
          },
          "colorway": [
           "#636efa",
           "#EF553B",
           "#00cc96",
           "#ab63fa",
           "#FFA15A",
           "#19d3f3",
           "#FF6692",
           "#B6E880",
           "#FF97FF",
           "#FECB52"
          ],
          "font": {
           "color": "#2a3f5f"
          },
          "geo": {
           "bgcolor": "white",
           "lakecolor": "white",
           "landcolor": "#E5ECF6",
           "showlakes": true,
           "showland": true,
           "subunitcolor": "white"
          },
          "hoverlabel": {
           "align": "left"
          },
          "hovermode": "closest",
          "mapbox": {
           "style": "light"
          },
          "paper_bgcolor": "white",
          "plot_bgcolor": "#E5ECF6",
          "polar": {
           "angularaxis": {
            "gridcolor": "white",
            "linecolor": "white",
            "ticks": ""
           },
           "bgcolor": "#E5ECF6",
           "radialaxis": {
            "gridcolor": "white",
            "linecolor": "white",
            "ticks": ""
           }
          },
          "scene": {
           "xaxis": {
            "backgroundcolor": "#E5ECF6",
            "gridcolor": "white",
            "gridwidth": 2,
            "linecolor": "white",
            "showbackground": true,
            "ticks": "",
            "zerolinecolor": "white"
           },
           "yaxis": {
            "backgroundcolor": "#E5ECF6",
            "gridcolor": "white",
            "gridwidth": 2,
            "linecolor": "white",
            "showbackground": true,
            "ticks": "",
            "zerolinecolor": "white"
           },
           "zaxis": {
            "backgroundcolor": "#E5ECF6",
            "gridcolor": "white",
            "gridwidth": 2,
            "linecolor": "white",
            "showbackground": true,
            "ticks": "",
            "zerolinecolor": "white"
           }
          },
          "shapedefaults": {
           "line": {
            "color": "#2a3f5f"
           }
          },
          "ternary": {
           "aaxis": {
            "gridcolor": "white",
            "linecolor": "white",
            "ticks": ""
           },
           "baxis": {
            "gridcolor": "white",
            "linecolor": "white",
            "ticks": ""
           },
           "bgcolor": "#E5ECF6",
           "caxis": {
            "gridcolor": "white",
            "linecolor": "white",
            "ticks": ""
           }
          },
          "title": {
           "x": 0.05
          },
          "xaxis": {
           "automargin": true,
           "gridcolor": "white",
           "linecolor": "white",
           "ticks": "",
           "title": {
            "standoff": 15
           },
           "zerolinecolor": "white",
           "zerolinewidth": 2
          },
          "yaxis": {
           "automargin": true,
           "gridcolor": "white",
           "linecolor": "white",
           "ticks": "",
           "title": {
            "standoff": 15
           },
           "zerolinecolor": "white",
           "zerolinewidth": 2
          }
         }
        },
        "title": {
         "font": {
          "size": 20
         },
         "text": "Mean Values of Top 5 PCA Components by Class"
        },
        "width": 1200
       }
      }
     },
     "metadata": {},
     "output_type": "display_data"
    }
   ],
   "source": [
    "# Calculate mean values for top components\n",
    "fraud_mean = df[df['Class'] == 1][['V1','V2','V3','V4','V5']].mean()\n",
    "normal_mean = df[df['Class'] == 0][['V1','V2','V3','V4','V5']].mean()\n",
    "\n",
    "fig = go.Figure()\n",
    "\n",
    "fig.add_trace(go.Scatterpolar(\n",
    "      r=fraud_mean.values,\n",
    "      theta=fraud_mean.index,\n",
    "      fill='toself',\n",
    "      name='Fraud'\n",
    "))\n",
    "fig.add_trace(go.Scatterpolar(\n",
    "      r=normal_mean.values,\n",
    "      theta=normal_mean.index,\n",
    "      fill='toself',\n",
    "      name='Normal'\n",
    "))\n",
    "\n",
    "fig.update_layout(\n",
    "  polar=dict(\n",
    "    radialaxis=dict(\n",
    "      visible=True\n",
    "    )),\n",
    "  title='Mean Values of Top 5 PCA Components by Class',\n",
    "  showlegend=True\n",
    ")\n",
    "\n",
    "# Increase the size of the plot\n",
    "fig.update_layout(\n",
    "    width=1200,\n",
    "    height=800,\n",
    "    title_font_size=20,\n",
    "    legend_font_size=14\n",
    ")\n",
    "\n",
    "fig.show()"
   ]
  },
  {
   "cell_type": "markdown",
   "id": "9b089bf3",
   "metadata": {},
   "source": [
    "### 2. Fraud Cluster Scatter Plot\n",
    "\n",
    "•\t**Type:** 2D scatter (V1 vs V2) colored by Class\n",
    "\n",
    "•\t**Rationale:** Visualizes if fraud forms clusters in PCA space\n",
    "\n",
    "•\t**Insight:** Potential separation of fraud cases in reduced dimensions\n"
   ]
  },
  {
   "cell_type": "code",
   "execution_count": 64,
   "id": "1d5cf128",
   "metadata": {},
   "outputs": [
    {
     "data": {
      "image/png": "[encoded data removed]",
      "text/plain": [
       "<Figure size 1600x600 with 1 Axes>"
      ]
     },
     "metadata": {},
     "output_type": "display_data"
    }
   ],
   "source": [
    "plt.figure(figsize=(10, 8))\n",
    "sns.scatterplot(data=df.sample(5000), x='V1', y='V2', hue='Class', \n",
    "                palette={0:'blue', 1:'red'}, alpha=0.6)\n",
    "plt.title('Fraud Cases in PCA Space (V1 vs V2)')\n",
    "plt.xlabel('PCA Component V1')\n",
    "plt.ylabel('PCA Component V2')\n",
    "plt.legend(title='Transaction Class')\n",
    "plt.gcf().set_size_inches(16, 6)\n",
    "plt.show()"
   ]
  },
  {
   "cell_type": "markdown",
   "id": "b6d3ef35",
   "metadata": {},
   "source": [
    "### 3. Component Correlation Heatmap\"\n",
    "\n",
    "•\t**Type:** Heatmap of V1-V10 correlations with Amount/Time\n",
    "\n",
    "•\t**Rationale:** Finds relationships between interpretable and transformed features\n",
    "\n",
    "•\t**Insight:** May reveal if certain components encode time/amount patterns\n"
   ]
  },
  {
   "cell_type": "code",
   "execution_count": 65,
   "id": "9c1c3060",
   "metadata": {},
   "outputs": [
    {
     "data": {
      "image/png": "[encoded data removed]",
      "text/plain": [
       "<Figure size 1600x600 with 2 Axes>"
      ]
     },
     "metadata": {},
     "output_type": "display_data"
    }
   ],
   "source": [
    "corr_matrix = df[['V1','V2','V3','V4','V5','V6','Amount','Time_Hours']].corr()\n",
    "\n",
    "plt.figure(figsize=(10, 8))\n",
    "sns.heatmap(corr_matrix, annot=True, cmap='coolwarm', center=0)\n",
    "plt.title('Correlation Between Top PCA Components and Key Features')\n",
    "plt.gcf().set_size_inches(16, 6)\n",
    "plt.show()\n"
   ]
  },
  {
   "cell_type": "markdown",
   "id": "db6c9f06",
   "metadata": {},
   "source": [
    "## Member 3: Comparative & Composite Visuals"
   ]
  },
  {
   "cell_type": "markdown",
   "id": "681d7ea6",
   "metadata": {},
   "source": [
    "### 1. Parallel Coordinates Plot\n",
    "\n",
    "•\t**Type:** Parallel plot of Time, Amount, and top 3 PCA components\n",
    "\n",
    "•\t**Rationale:** Reveals multidimensional fraud patterns\n",
    "\n",
    "•\t**Insight:** Potential identification of fraud \"pathways\" through features\n"
   ]
  },
  {
   "cell_type": "code",
   "execution_count": 66,
   "id": "cc50049f",
   "metadata": {},
   "outputs": [
    {
     "data": {
      "application/vnd.plotly.v1+json": {
       "config": {
        "plotlyServerURL": "https://plot.ly"
       },
       "data": [
        {
         "dimensions": [
          {
           "label": "Time_Hours",
           "values": [
            7.97,
            6.017222222222222,
            23.690277777777776,
            25.29861111111111,
            7.384722222222222,
            15.488888888888889,
            3.359166666666667,
            11.442777777777778,
            43.239444444444445,
            28.22138888888889,
            2.113888888888889,
            23.690277777777776,
            7.979444444444445,
            11.50361111111111,
            41.70527777777778,
            7.551944444444445,
            9.884722222222223,
            19.73138888888889,
            34.89222222222222,
            44.06611111111111,
            26.084444444444443,
            16.172777777777778,
            42.960277777777776,
            46.48277777777778,
            7.960555555555556,
            46.98388888888889,
            40.83277777777778,
            11.529166666666667,
            42.23222222222222,
            26.07027777777778,
            8.203055555555556,
            25.58111111111111,
            39.67777777777778,
            26.072222222222223,
            3.4991666666666665,
            22.60333333333333,
            0.11277777777777778,
            2.15,
            12.793611111111112,
            39.25555555555555,
            15.73611111111111,
            11.664166666666667,
            11.135,
            12.819166666666666,
            13.034722222222221,
            18.94638888888889,
            2.368888888888889,
            41.550555555555555,
            7.57,
            46.11888888888889,
            44.62916666666667,
            9.620555555555555,
            42.855,
            4.774166666666667,
            43.20944444444444,
            12.331388888888888,
            46.10583333333334,
            36.690555555555555,
            7.717777777777778,
            8.27361111111111,
            36.05777777777778,
            18.94638888888889,
            44.40111111111111,
            43.204166666666666,
            28.519166666666667,
            7.489166666666667,
            41.57666666666667,
            41.11888888888889,
            38.58166666666666,
            23.690277777777776,
            44.68611111111111,
            21.43166666666667,
            27.009722222222223,
            41.244166666666665,
            42.419444444444444,
            7.951388888888889,
            24.649166666666666,
            23.39,
            26.211666666666666,
            16.129722222222224,
            32.13638888888889,
            10.047222222222222,
            39.32361111111111,
            28.421666666666667,
            23.39,
            47.21277777777778,
            28.483888888888888,
            9.079444444444444,
            7.845,
            41.41555555555556,
            2.3355555555555556,
            15.448333333333334,
            36.995555555555555,
            2.392777777777778,
            26.211666666666666,
            34.05777777777778,
            6.970833333333333,
            18.65277777777778,
            18.1625,
            36.01888888888889,
            22.90277777777778,
            14.042777777777777,
            15.3125,
            32.38111111111111,
            25.120555555555555,
            10.9475,
            27.89138888888889,
            8.626111111111111,
            31.020833333333332,
            5.248611111111111,
            11.758333333333333,
            42.784444444444446,
            22.736944444444443,
            15.750833333333333,
            35.759166666666665,
            42.87555555555556,
            12.228333333333333,
            14.50611111111111,
            11.808333333333334,
            39.602777777777774,
            21.741944444444446,
            10.0225,
            41.619166666666665,
            18.44611111111111,
            40.4325,
            43.135555555555555,
            41.43,
            35.26638888888889,
            18.945,
            43.19888888888889,
            33.065555555555555,
            21.285555555555554,
            17.214444444444446,
            35.99666666666667,
            23.644444444444446,
            8.984722222222222,
            42.83305555555555,
            34.36138888888889,
            16.975555555555555,
            33.96388888888889,
            36.181111111111115,
            18.578611111111112,
            31.6675,
            34.51861111111111,
            14.866111111111111,
            36.10638888888889,
            45.361111111111114,
            19.64,
            45.05277777777778,
            10.365,
            15.021666666666667,
            34.03777777777778,
            9.584722222222222,
            35.43972222222222,
            15.114166666666666,
            5.646944444444444,
            36.76888888888889,
            41.43527777777778,
            43.37583333333333,
            29.865277777777777,
            0.7275,
            22.721944444444443,
            43.032222222222224,
            10.268611111111111,
            21.628055555555555,
            8.809444444444445,
            37.7875,
            11.797777777777778,
            27.120833333333334,
            21.04888888888889,
            43.102777777777774,
            7.694166666666667,
            33.98388888888889,
            43.7825,
            40.99916666666667,
            17.895,
            38.25666666666667,
            14.14611111111111,
            14.49638888888889,
            34.13333333333333,
            43.103611111111114,
            32.24805555555555,
            37.34722222222222,
            16.929444444444446,
            12.01361111111111,
            11.089166666666667,
            10.848611111111111,
            40.09166666666667,
            41.46666666666667,
            39.431111111111115,
            29.858888888888888,
            41.96888888888889,
            24.433055555555555,
            30.871388888888887,
            11.339166666666667,
            13.576944444444445,
            17.5275,
            19.23638888888889,
            20.601944444444445,
            44.395833333333336
           ]
          },
          {
           "label": "Amount",
           "values": [
            99.99,
            1,
            0,
            38.76,
            99.99,
            311.91,
            0,
            1.52,
            0.77,
            147.87,
            1,
            252.92,
            99.99,
            106.55,
            237.26,
            99.99,
            0.76,
            426.4,
            3.22,
            296,
            37.93,
            270,
            0.77,
            349.08,
            99.99,
            390,
            8,
            364.19,
            1,
            316.06,
            0.68,
            18,
            144.8,
            188.52,
            1,
            7.57,
            0,
            1,
            1,
            195.66,
            7.52,
            1,
            1,
            1,
            1,
            1,
            1,
            1.1,
            99.99,
            39.9,
            0.77,
            18.96,
            1504.93,
            3.79,
            94.82,
            1,
            0,
            480.72,
            23.36,
            30.3,
            276.17,
            1,
            45.51,
            3.9,
            0,
            99.99,
            17.39,
            0,
            0.01,
            252.92,
            0.77,
            129,
            9.82,
            122.68,
            2.47,
            99.99,
            9.21,
            512.25,
            1,
            1,
            17.06,
            111.7,
            4.49,
            22.04,
            0,
            245,
            2.28,
            0,
            730.86,
            0,
            1,
            0.83,
            1335,
            1,
            1,
            2125.87,
            3.12,
            489.71,
            1354.25,
            2,
            0.76,
            4.18,
            15,
            57,
            0,
            43.89,
            49.83,
            35,
            219,
            11.85,
            35.9,
            1.98,
            108.22,
            56.19,
            9.99,
            13.99,
            435.7,
            70.65,
            24.09,
            17.82,
            521.99,
            20,
            10.74,
            1,
            216.59,
            888.61,
            1.98,
            136,
            0.89,
            11.37,
            56.89,
            30.39,
            27.22,
            19.5,
            16.3,
            21.99,
            15,
            0.77,
            3.59,
            7.56,
            52,
            21.1,
            7.99,
            11.76,
            79,
            50,
            114.98,
            283.91,
            50.2,
            30,
            16.44,
            0.77,
            0.99,
            33.45,
            5.49,
            11.85,
            87,
            1.98,
            42.81,
            61.47,
            1.29,
            64.6,
            60,
            6.23,
            0.99,
            1.29,
            39.28,
            11.71,
            11,
            204.9,
            1.29,
            26.25,
            3.96,
            7.6,
            110.07,
            1.98,
            1.98,
            10.02,
            6.87,
            63,
            55.54,
            0.92,
            201.8,
            69.99,
            18.31,
            90,
            114.32,
            2.99,
            12.6,
            59.15,
            156.5,
            20.5,
            1,
            1,
            675.49,
            16.53,
            10.4,
            0.99,
            9.99,
            32.12
           ]
          },
          {
           "label": "V1",
           "values": [
            -29.2003285905744,
            -18.0185611876771,
            -7.03030814445441,
            -1.85506070184998,
            -19.8563223334433,
            -6.00342167645829,
            -4.69679522444504,
            -7.89688615307576,
            -1.92861326665902,
            0.91311613528992,
            0.725645739819857,
            -6.71340697159693,
            -29.8763655139763,
            -15.1404496225073,
            -6.68283191622627,
            -24.5902447690465,
            -2.01900071938148,
            -3.17081841545902,
            1.88961791435199,
            -5.97611932262173,
            -11.3206331107815,
            -1.32278906321956,
            -0.679520574101316,
            -1.37442438802593,
            -28.5242675938406,
            -1.92788332105459,
            -2.0642397521399,
            -16.5265065691231,
            -4.32060921481281,
            -5.83919161928092,
            -1.06067628419757,
            -1.10847821852891,
            -3.61385045502803,
            -10.6323749061596,
            -2.58961719821269,
            -0.88525408859895,
            -2.3122265423263,
            1.02387386852139,
            -1.3094413460044,
            -6.35233691096656,
            -8.7620833940977,
            -4.56634156694274,
            1.08369268125484,
            -1.34650881762975,
            -0.481531150954278,
            -13.1926709562391,
            0.447395553302475,
            -4.28058383167792,
            -25.9424344479142,
            -0.956390354534089,
            -0.417339782403896,
            0.333499490680108,
            -1.60021129907252,
            1.08837493830851,
            -1.04006722316026,
            -4.61746102917986,
            -5.76687873469586,
            -0.361427838541789,
            0.288028928428076,
            0.92376442016477,
            1.52207986461923,
            -13.1926709562391,
            -0.408110816961726,
            0.711155481810016,
            -5.60369027985602,
            -23.237920244511,
            1.83319104756006,
            -1.05383960928927,
            -1.29844323295373,
            -6.71340697159693,
            -0.644277679025173,
            -0.715413746430203,
            -17.5375916846763,
            -1.541678492331,
            0.0510754846328574,
            -27.84818067198,
            1.91782653091941,
            -1.92745281973369,
            -26.4577446501446,
            -0.264868683737295,
            -1.55027271502021,
            -5.68501341827133,
            0.1149650477972,
            -1.02063166582361,
            -0.937843305478391,
            -3.11383160738512,
            -1.45687631770562,
            0.287952771527529,
            -2.78724793061533,
            1.18489112271901,
            -1.81328048476897,
            -7.34795494690262,
            -1.21268170063531,
            -2.16992897559082,
            -26.4577446501446,
            -2.00345953080582,
            1.19239598990768,
            -1.82429505976067,
            -2.92382666427262,
            0.753356012421118,
            1.31453919005614,
            -0.798671774485497,
            -0.391128406506541,
            -0.0603018544445645,
            1.84843255870069,
            1.32197869570702,
            -0.342387450670689,
            1.45900811813266,
            -1.2104755863878,
            1.24533658991321,
            -0.897612391760322,
            -0.348468108777937,
            1.30179753039177,
            1.19704827379311,
            -0.895189391724357,
            -0.875346864815914,
            0.647704399569957,
            -0.82015895242394,
            1.27031818788739,
            1.99594739408916,
            0.323701940972641,
            1.30681709495439,
            -0.707811560219556,
            1.28348081223234,
            -3.02186974727536,
            0.189727866560077,
            -1.50288873203388,
            1.79539615923032,
            -1.12789970248559,
            1.91146480555824,
            1.95482028170438,
            -0.466142066633655,
            -0.303047771865808,
            1.94045874643842,
            1.23172657403734,
            -3.21754308226548,
            2.25673217669296,
            -2.1093100245181,
            -0.817836912666622,
            1.86510217090672,
            2.25541526630162,
            1.21772427452892,
            -1.27886525584602,
            -1.08399499439808,
            1.13758920728592,
            2.18077293918905,
            2.05521648152278,
            -0.840298150285633,
            2.06410682423571,
            1.43845005461184,
            -0.855491120733091,
            1.96757354599413,
            1.20410843161655,
            -4.07730401825524,
            1.14931888909078,
            1.0984177990865,
            1.73834842824321,
            -0.0012563472582398,
            0.145152965329236,
            -6.05320313449406,
            1.19501587913443,
            -0.919898238203673,
            0.371828481471616,
            -0.524725066277396,
            1.27445203378864,
            1.14805653614301,
            1.86164498778048,
            1.15960475809455,
            0.244436590757077,
            -1.07818427504042,
            -0.289312575511741,
            1.21408745382597,
            2.19892200114513,
            2.12851175648007,
            -4.23452032540243,
            1.19020894222784,
            -0.0697332797352427,
            -0.923756610762089,
            -0.836237803261074,
            2.02652990089377,
            -0.541542733690918,
            -1.24233375678814,
            -0.719921747255747,
            -0.790766021949347,
            -0.497267146512649,
            -1.28924364250824,
            -1.01219511793225,
            -3.35798311757743,
            -1.28593685596642,
            1.88550143438415,
            1.75203699119951,
            -0.23318493390118,
            -1.37562295129092,
            2.10368339073905,
            -0.16682202788599,
            1.47609962994208,
            1.43975518686222,
            -0.783113761128989,
            0.297103644317861,
            2.0354024811509
           ]
          },
          {
           "label": "V2",
           "values": [
            16.1557014298057,
            10.5586001882538,
            3.42199090467553,
            1.55496360697718,
            12.0958932259299,
            -3.93073139597263,
            2.69386747884008,
            5.38101952251685,
            4.60150558710842,
            1.1453810871791,
            2.30089443776603,
            3.92110415204576,
            16.4345245512223,
            7.37804241221284,
            -2.71426804459821,
            14.0445667815106,
            1.49126972926361,
            0.185734554774403,
            1.07309853428207,
            -7.19697963053735,
            7.1919501426236,
            1.55276821126964,
            4.67255275192187,
            2.79318461104641,
            15.8769229879536,
            1.12565266367046,
            2.62973923034009,
            8.58497179585822,
            3.19993870654465,
            7.1515323543223,
            2.60857946990866,
            3.44895257232738,
            -0.922135693038651,
            7.25193622855414,
            7.01671438495857,
            1.79064923163963,
            1.95199201064158,
            2.00148526626613,
            1.78649494921925,
            -2.37033515007664,
            2.79103028235041,
            3.35345148012501,
            1.17950120574809,
            2.13243062687771,
            1.05954227713479,
            12.785970638298,
            2.48195386638743,
            1.42110000741665,
            14.6019980426299,
            2.36159360978361,
            4.70005527392636,
            1.69987344643198,
            -3.48813018118561,
            0.898474023721059,
            3.10670266443901,
            3.66339525318756,
            -8.40215367768915,
            1.13347191665669,
            0.965681439446855,
            0.34404807190464,
            -0.51942947320952,
            12.785970638298,
            3.13294449795257,
            2.61710490740972,
            5.22219270751471,
            13.4873857909274,
            0.74533277919767,
            4.36280068444382,
            1.94810044909488,
            3.92110415204576,
            5.00235242592827,
            0.608590312773943,
            12.3525186682391,
            3.8467996764866,
            1.31042652386526,
            15.5981926625554,
            0.951966571156228,
            1.82762056700016,
            16.497471901867,
            3.38613996883911,
            1.08868850191044,
            5.77651621042963,
            0.76676154669164,
            1.49695912243222,
            3.46288948991687,
            0.58586417180689,
            3.74030556080113,
            1.72873464521162,
            -0.0713403777285035,
            3.15208420536211,
            4.91785071056565,
            2.39704134824746,
            -2.48482353043406,
            3.6396539992044,
            16.497471901867,
            -7.15904171709445,
            1.33897371069007,
            0.403326526860602,
            1.52483716405302,
            2.28498795250353,
            0.590642763250075,
            1.18509290816488,
            -0.245539891457449,
            1.06509322305841,
            0.373363986127128,
            -0.575195465659831,
            -0.196129325363074,
            -1.14424286797837,
            -1.18607738341811,
            -0.273575908149224,
            -0.639782874724809,
            1.07170766832043,
            -1.17003224269508,
            -0.516516872267276,
            1.49124385780496,
            0.645340252246518,
            -2.5039052592163,
            1.5338162913775,
            -0.873262787517961,
            0.131800267136357,
            -2.4522076361641,
            -0.5418983696791,
            1.49688531862058,
            1.35302264420823,
            -0.833332491521625,
            -3.38954013898479,
            -0.887739931693246,
            -0.679893444620136,
            0.749964399035807,
            0.450069800822864,
            -0.185916923125864,
            0.729215304634924,
            1.29682847097134,
            -0.856195243752375,
            0.31078253956583,
            2.45386898165513,
            -0.588982045310055,
            2.11642110055654,
            0.859583978811558,
            0.394507892052327,
            -1.49263924913123,
            -0.627781182317182,
            0.566725431221509,
            1.08309286759087,
            -0.610793770365206,
            -1.84146747541801,
            -0.828343115726232,
            1.15616256744971,
            -0.0063006483979635,
            -1.10818642091788,
            0.33884044068583,
            -0.477625934024505,
            0.165671174514797,
            -1.1237438016813,
            0.301381279437682,
            -0.443084606008526,
            -0.830539804579204,
            0.938109123239064,
            1.13721341129005,
            -7.79460228989172,
            0.203954009272122,
            -0.356502251980389,
            -0.407062672049804,
            0.902407575994838,
            0.347971729676691,
            -0.0803601728560278,
            -0.348840498711333,
            0.40362595130376,
            1.25966077052989,
            0.201606392594654,
            1.30419694725517,
            -0.457960761491849,
            -0.544878702331577,
            0.0100122429232796,
            -4.63035445681654,
            0.350074531751468,
            0.77332410685154,
            0.579012508324708,
            1.15742638684187,
            -0.993196835842272,
            1.59126592186705,
            2.05903482622176,
            -0.457425614861246,
            -0.183655438934212,
            0.544434407717133,
            -1.81078392167246,
            0.754735029192523,
            3.89913564820386,
            -0.221973817486479,
            0.365525409586616,
            -0.254466701008194,
            -1.18013212573691,
            1.39575594193114,
            0.0305029416505572,
            -3.13005384929236,
            -0.750537603619645,
            -1.13243339982949,
            0.653123068977206,
            0.556396513745359,
            -0.267076814482586
           ]
          },
          {
           "label": "V3",
           "values": [
            -30.0137124857248,
            -24.6677412485732,
            -9.52507177254752,
            -1.40580882850107,
            -22.4640827464876,
            -0.0070454551172806,
            -4.47513271259153,
            -8.45116161458266,
            -7.12405297794577,
            -4.60287793273505,
            -5.32997618300917,
            -9.74667821737542,
            -30.5586968214292,
            -16.356367356494,
            -5.77453045690806,
            -26.2787005866145,
            0.0052218157286719,
            -3.39985157931162,
            -1.67801752213825,
            -5.38831591092631,
            -13.1790825454686,
            -2.27692070362638,
            -6.81479843997791,
            -4.34657205544607,
            -29.4687320925264,
            -4.51833064132991,
            -0.748406253034646,
            -18.6498531851945,
            -5.79973605389345,
            -12.8167600806187,
            -2.97167900258071,
            -6.21697180605649,
            -4.74988736419275,
            -17.6810718207918,
            -13.7054072869097,
            -0.945148961205205,
            -1.60985073229769,
            -4.76975183220974,
            -1.37107024042555,
            -4.87539667887196,
            -7.68276685719257,
            -4.57202780762531,
            -1.34615039129229,
            -1.85435531823997,
            0.647117402910268,
            -9.90665002092758,
            -5.66081393141405,
            -3.90822884348162,
            -27.3686502881266,
            -3.17119460723168,
            -7.52176682774885,
            -2.59656116696059,
            -6.45930280667571,
            0.394684329076182,
            -5.40902719870311,
            -5.29744641020372,
            0.0565432462509224,
            -2.97136044013455,
            -1.45949519977085,
            -2.88000365579163,
            -2.58168487999205,
            -9.90665002092758,
            -3.09802976350239,
            -4.72236322125,
            -7.51682997724608,
            -25.1887729688701,
            -1.13300871289587,
            -6.02353363697249,
            -4.50994688793757,
            -9.74667821737542,
            -8.25273876012125,
            1.15550089022062,
            -20.1346128135864,
            -7.60411417332843,
            0.733222065309853,
            -28.923755945104,
            -2.05920551344214,
            -7.01949468454197,
            -30.1773174564996,
            -3.4549969895002,
            -2.39338766218981,
            -7.06497672861513,
            -0.494132199415659,
            -4.49093711758335,
            -6.44510395393435,
            -5.39973021073242,
            -7.40451844591174,
            -1.65217304572257,
            -1.50528777523306,
            -6.13477982463031,
            -5.92612969400656,
            -7.57235581757844,
            -6.39718581511927,
            -4.50849778617728,
            -30.1773174564996,
            -4.05097631587393,
            -0.678876186687009,
            -1.99412200641801,
            -3.01875803326242,
            -5.16449200355315,
            -0.66659342070355,
            0.904547185437142,
            1.1220742968905,
            -0.987420659335406,
            0.269271959391459,
            0.395503410710055,
            1.20125394393227,
            0.673747838239018,
            1.11594940389539,
            0.683713454365785,
            1.71804604229831,
            -1.98656971696683,
            -0.244465729261431,
            0.445304982112958,
            -0.548949559756581,
            -1.26778679804039,
            -0.0607408974917158,
            0.34826800223488,
            1.03750281966146,
            -1.74939503437275,
            -0.88430875834207,
            0.166025672779155,
            -1.22525206924111,
            -1.77637441452811,
            -1.39480085533396,
            -1.93483047005889,
            0.585543711986008,
            -2.01714866080065,
            1.59989267484621,
            -0.574954591927256,
            -1.84597830450352,
            2.55700587704237,
            0.721236872527861,
            -1.35066585267271,
            0.080446393847431,
            0.450088038079514,
            -1.57396452783828,
            0.589708998350573,
            1.71541978735947,
            -0.642936060069466,
            -2.89713770186462,
            1.1942833179904,
            0.543100784986035,
            2.0856009366447,
            1.01130755244392,
            0.0676143077813119,
            -2.85725217548907,
            0.0937076557955543,
            -2.83953230669774,
            0.765152066523757,
            0.817797500109774,
            -0.431299226062108,
            0.608378788402144,
            -0.909737845697767,
            0.394600936414389,
            1.00086919134106,
            -1.03597765685758,
            -0.412720962210175,
            -1.07041327242733,
            2.10814447573084,
            0.620038939729723,
            1.12782144155804,
            -0.708617859227172,
            1.55178361292208,
            -0.0552418807726726,
            -0.556299543848207,
            -0.500942591663112,
            0.523388963148238,
            -0.640591183099015,
            0.83962229027908,
            -0.420008754547012,
            -0.433451021358944,
            -1.11109076453149,
            -2.49033545165477,
            -0.197273081534488,
            0.424394289499934,
            -0.203603816950439,
            1.35364777968453,
            1.53216629609586,
            -1.16785150625937,
            -1.31779241366995,
            -1.45447274057361,
            1.05519006265655,
            2.19131892910846,
            1.7210153657714,
            0.83086326668968,
            1.35512583255969,
            -2.36377939266807,
            1.69599283485607,
            -2.33104213375375,
            -1.49059579345744,
            2.88683347463709,
            -0.230344434658039,
            -1.43868243444498,
            1.42477252066928,
            0.131840531698917,
            0.689557583717844,
            1.43281810468297,
            -0.67980503821111,
            -3.45450169966725
           ]
          }
         ],
         "domain": {
          "x": [
           0,
           1
          ],
          "y": [
           0,
           1
          ]
         },
         "line": {
          "color": [
           1,
           1,
           1,
           1,
           1,
           1,
           1,
           1,
           1,
           1,
           1,
           1,
           1,
           1,
           1,
           1,
           1,
           1,
           1,
           1,
           1,
           1,
           1,
           1,
           1,
           1,
           1,
           1,
           1,
           1,
           1,
           1,
           1,
           1,
           1,
           1,
           1,
           1,
           1,
           1,
           1,
           1,
           1,
           1,
           1,
           1,
           1,
           1,
           1,
           1,
           1,
           1,
           1,
           1,
           1,
           1,
           1,
           1,
           1,
           1,
           1,
           1,
           1,
           1,
           1,
           1,
           1,
           1,
           1,
           1,
           1,
           1,
           1,
           1,
           1,
           1,
           1,
           1,
           1,
           1,
           1,
           1,
           1,
           1,
           1,
           1,
           1,
           1,
           1,
           1,
           1,
           1,
           1,
           1,
           1,
           1,
           1,
           1,
           1,
           1,
           0,
           0,
           0,
           0,
           0,
           0,
           0,
           0,
           0,
           0,
           0,
           0,
           0,
           0,
           0,
           0,
           0,
           0,
           0,
           0,
           0,
           0,
           0,
           0,
           0,
           0,
           0,
           0,
           0,
           0,
           0,
           0,
           0,
           0,
           0,
           0,
           0,
           0,
           0,
           0,
           0,
           0,
           0,
           0,
           0,
           0,
           0,
           0,
           0,
           0,
           0,
           0,
           0,
           0,
           0,
           0,
           0,
           0,
           0,
           0,
           0,
           0,
           0,
           0,
           0,
           0,
           0,
           0,
           0,
           0,
           0,
           0,
           0,
           0,
           0,
           0,
           0,
           0,
           0,
           0,
           0,
           0,
           0,
           0,
           0,
           0,
           0,
           0,
           0,
           0,
           0,
           0,
           0,
           0,
           0,
           0,
           0,
           0,
           0,
           0
          ],
          "coloraxis": "coloraxis",
          "colorbar": {
           "title": {
            "text": "Fraud Probability"
           }
          }
         },
         "name": "",
         "type": "parcoords"
        }
       ],
       "layout": {
        "coloraxis": {
         "colorbar": {
          "title": {
           "text": "Class"
          }
         },
         "colorscale": [
          [
           0,
           "rgb(0, 147, 146)"
          ],
          [
           0.16666666666666666,
           "rgb(114, 170, 161)"
          ],
          [
           0.3333333333333333,
           "rgb(177, 199, 179)"
          ],
          [
           0.5,
           "rgb(241, 234, 200)"
          ],
          [
           0.6666666666666666,
           "rgb(229, 185, 173)"
          ],
          [
           0.8333333333333334,
           "rgb(217, 137, 148)"
          ],
          [
           1,
           "rgb(208, 88, 126)"
          ]
         ]
        },
        "legend": {
         "tracegroupgap": 0
        },
        "template": {
         "data": {
          "bar": [
           {
            "error_x": {
             "color": "#2a3f5f"
            },
            "error_y": {
             "color": "#2a3f5f"
            },
            "marker": {
             "line": {
              "color": "#E5ECF6",
              "width": 0.5
             },
             "pattern": {
              "fillmode": "overlay",
              "size": 10,
              "solidity": 0.2
             }
            },
            "type": "bar"
           }
          ],
          "barpolar": [
           {
            "marker": {
             "line": {
              "color": "#E5ECF6",
              "width": 0.5
             },
             "pattern": {
              "fillmode": "overlay",
              "size": 10,
              "solidity": 0.2
             }
            },
            "type": "barpolar"
           }
          ],
          "carpet": [
           {
            "aaxis": {
             "endlinecolor": "#2a3f5f",
             "gridcolor": "white",
             "linecolor": "white",
             "minorgridcolor": "white",
             "startlinecolor": "#2a3f5f"
            },
            "baxis": {
             "endlinecolor": "#2a3f5f",
             "gridcolor": "white",
             "linecolor": "white",
             "minorgridcolor": "white",
             "startlinecolor": "#2a3f5f"
            },
            "type": "carpet"
           }
          ],
          "choropleth": [
           {
            "colorbar": {
             "outlinewidth": 0,
             "ticks": ""
            },
            "type": "choropleth"
           }
          ],
          "contour": [
           {
            "colorbar": {
             "outlinewidth": 0,
             "ticks": ""
            },
            "colorscale": [
             [
              0,
              "#0d0887"
             ],
             [
              0.1111111111111111,
              "#46039f"
             ],
             [
              0.2222222222222222,
              "#7201a8"
             ],
             [
              0.3333333333333333,
              "#9c179e"
             ],
             [
              0.4444444444444444,
              "#bd3786"
             ],
             [
              0.5555555555555556,
              "#d8576b"
             ],
             [
              0.6666666666666666,
              "#ed7953"
             ],
             [
              0.7777777777777778,
              "#fb9f3a"
             ],
             [
              0.8888888888888888,
              "#fdca26"
             ],
             [
              1,
              "#f0f921"
             ]
            ],
            "type": "contour"
           }
          ],
          "contourcarpet": [
           {
            "colorbar": {
             "outlinewidth": 0,
             "ticks": ""
            },
            "type": "contourcarpet"
           }
          ],
          "heatmap": [
           {
            "colorbar": {
             "outlinewidth": 0,
             "ticks": ""
            },
            "colorscale": [
             [
              0,
              "#0d0887"
             ],
             [
              0.1111111111111111,
              "#46039f"
             ],
             [
              0.2222222222222222,
              "#7201a8"
             ],
             [
              0.3333333333333333,
              "#9c179e"
             ],
             [
              0.4444444444444444,
              "#bd3786"
             ],
             [
              0.5555555555555556,
              "#d8576b"
             ],
             [
              0.6666666666666666,
              "#ed7953"
             ],
             [
              0.7777777777777778,
              "#fb9f3a"
             ],
             [
              0.8888888888888888,
              "#fdca26"
             ],
             [
              1,
              "#f0f921"
             ]
            ],
            "type": "heatmap"
           }
          ],
          "heatmapgl": [
           {
            "colorbar": {
             "outlinewidth": 0,
             "ticks": ""
            },
            "colorscale": [
             [
              0,
              "#0d0887"
             ],
             [
              0.1111111111111111,
              "#46039f"
             ],
             [
              0.2222222222222222,
              "#7201a8"
             ],
             [
              0.3333333333333333,
              "#9c179e"
             ],
             [
              0.4444444444444444,
              "#bd3786"
             ],
             [
              0.5555555555555556,
              "#d8576b"
             ],
             [
              0.6666666666666666,
              "#ed7953"
             ],
             [
              0.7777777777777778,
              "#fb9f3a"
             ],
             [
              0.8888888888888888,
              "#fdca26"
             ],
             [
              1,
              "#f0f921"
             ]
            ],
            "type": "heatmapgl"
           }
          ],
          "histogram": [
           {
            "marker": {
             "pattern": {
              "fillmode": "overlay",
              "size": 10,
              "solidity": 0.2
             }
            },
            "type": "histogram"
           }
          ],
          "histogram2d": [
           {
            "colorbar": {
             "outlinewidth": 0,
             "ticks": ""
            },
            "colorscale": [
             [
              0,
              "#0d0887"
             ],
             [
              0.1111111111111111,
              "#46039f"
             ],
             [
              0.2222222222222222,
              "#7201a8"
             ],
             [
              0.3333333333333333,
              "#9c179e"
             ],
             [
              0.4444444444444444,
              "#bd3786"
             ],
             [
              0.5555555555555556,
              "#d8576b"
             ],
             [
              0.6666666666666666,
              "#ed7953"
             ],
             [
              0.7777777777777778,
              "#fb9f3a"
             ],
             [
              0.8888888888888888,
              "#fdca26"
             ],
             [
              1,
              "#f0f921"
             ]
            ],
            "type": "histogram2d"
           }
          ],
          "histogram2dcontour": [
           {
            "colorbar": {
             "outlinewidth": 0,
             "ticks": ""
            },
            "colorscale": [
             [
              0,
              "#0d0887"
             ],
             [
              0.1111111111111111,
              "#46039f"
             ],
             [
              0.2222222222222222,
              "#7201a8"
             ],
             [
              0.3333333333333333,
              "#9c179e"
             ],
             [
              0.4444444444444444,
              "#bd3786"
             ],
             [
              0.5555555555555556,
              "#d8576b"
             ],
             [
              0.6666666666666666,
              "#ed7953"
             ],
             [
              0.7777777777777778,
              "#fb9f3a"
             ],
             [
              0.8888888888888888,
              "#fdca26"
             ],
             [
              1,
              "#f0f921"
             ]
            ],
            "type": "histogram2dcontour"
           }
          ],
          "mesh3d": [
           {
            "colorbar": {
             "outlinewidth": 0,
             "ticks": ""
            },
            "type": "mesh3d"
           }
          ],
          "parcoords": [
           {
            "line": {
             "colorbar": {
              "outlinewidth": 0,
              "ticks": ""
             }
            },
            "type": "parcoords"
           }
          ],
          "pie": [
           {
            "automargin": true,
            "type": "pie"
           }
          ],
          "scatter": [
           {
            "fillpattern": {
             "fillmode": "overlay",
             "size": 10,
             "solidity": 0.2
            },
            "type": "scatter"
           }
          ],
          "scatter3d": [
           {
            "line": {
             "colorbar": {
              "outlinewidth": 0,
              "ticks": ""
             }
            },
            "marker": {
             "colorbar": {
              "outlinewidth": 0,
              "ticks": ""
             }
            },
            "type": "scatter3d"
           }
          ],
          "scattercarpet": [
           {
            "marker": {
             "colorbar": {
              "outlinewidth": 0,
              "ticks": ""
             }
            },
            "type": "scattercarpet"
           }
          ],
          "scattergeo": [
           {
            "marker": {
             "colorbar": {
              "outlinewidth": 0,
              "ticks": ""
             }
            },
            "type": "scattergeo"
           }
          ],
          "scattergl": [
           {
            "marker": {
             "colorbar": {
              "outlinewidth": 0,
              "ticks": ""
             }
            },
            "type": "scattergl"
           }
          ],
          "scattermapbox": [
           {
            "marker": {
             "colorbar": {
              "outlinewidth": 0,
              "ticks": ""
             }
            },
            "type": "scattermapbox"
           }
          ],
          "scatterpolar": [
           {
            "marker": {
             "colorbar": {
              "outlinewidth": 0,
              "ticks": ""
             }
            },
            "type": "scatterpolar"
           }
          ],
          "scatterpolargl": [
           {
            "marker": {
             "colorbar": {
              "outlinewidth": 0,
              "ticks": ""
             }
            },
            "type": "scatterpolargl"
           }
          ],
          "scatterternary": [
           {
            "marker": {
             "colorbar": {
              "outlinewidth": 0,
              "ticks": ""
             }
            },
            "type": "scatterternary"
           }
          ],
          "surface": [
           {
            "colorbar": {
             "outlinewidth": 0,
             "ticks": ""
            },
            "colorscale": [
             [
              0,
              "#0d0887"
             ],
             [
              0.1111111111111111,
              "#46039f"
             ],
             [
              0.2222222222222222,
              "#7201a8"
             ],
             [
              0.3333333333333333,
              "#9c179e"
             ],
             [
              0.4444444444444444,
              "#bd3786"
             ],
             [
              0.5555555555555556,
              "#d8576b"
             ],
             [
              0.6666666666666666,
              "#ed7953"
             ],
             [
              0.7777777777777778,
              "#fb9f3a"
             ],
             [
              0.8888888888888888,
              "#fdca26"
             ],
             [
              1,
              "#f0f921"
             ]
            ],
            "type": "surface"
           }
          ],
          "table": [
           {
            "cells": {
             "fill": {
              "color": "#EBF0F8"
             },
             "line": {
              "color": "white"
             }
            },
            "header": {
             "fill": {
              "color": "#C8D4E3"
             },
             "line": {
              "color": "white"
             }
            },
            "type": "table"
           }
          ]
         },
         "layout": {
          "annotationdefaults": {
           "arrowcolor": "#2a3f5f",
           "arrowhead": 0,
           "arrowwidth": 1
          },
          "autotypenumbers": "strict",
          "coloraxis": {
           "colorbar": {
            "outlinewidth": 0,
            "ticks": ""
           }
          },
          "colorscale": {
           "diverging": [
            [
             0,
             "#8e0152"
            ],
            [
             0.1,
             "#c51b7d"
            ],
            [
             0.2,
             "#de77ae"
            ],
            [
             0.3,
             "#f1b6da"
            ],
            [
             0.4,
             "#fde0ef"
            ],
            [
             0.5,
             "#f7f7f7"
            ],
            [
             0.6,
             "#e6f5d0"
            ],
            [
             0.7,
             "#b8e186"
            ],
            [
             0.8,
             "#7fbc41"
            ],
            [
             0.9,
             "#4d9221"
            ],
            [
             1,
             "#276419"
            ]
           ],
           "sequential": [
            [
             0,
             "#0d0887"
            ],
            [
             0.1111111111111111,
             "#46039f"
            ],
            [
             0.2222222222222222,
             "#7201a8"
            ],
            [
             0.3333333333333333,
             "#9c179e"
            ],
            [
             0.4444444444444444,
             "#bd3786"
            ],
            [
             0.5555555555555556,
             "#d8576b"
            ],
            [
             0.6666666666666666,
             "#ed7953"
            ],
            [
             0.7777777777777778,
             "#fb9f3a"
            ],
            [
             0.8888888888888888,
             "#fdca26"
            ],
            [
             1,
             "#f0f921"
            ]
           ],
           "sequentialminus": [
            [
             0,
             "#0d0887"
            ],
            [
             0.1111111111111111,
             "#46039f"
            ],
            [
             0.2222222222222222,
             "#7201a8"
            ],
            [
             0.3333333333333333,
             "#9c179e"
            ],
            [
             0.4444444444444444,
             "#bd3786"
            ],
            [
             0.5555555555555556,
             "#d8576b"
            ],
            [
             0.6666666666666666,
             "#ed7953"
            ],
            [
             0.7777777777777778,
             "#fb9f3a"
            ],
            [
             0.8888888888888888,
             "#fdca26"
            ],
            [
             1,
             "#f0f921"
            ]
           ]
          },
          "colorway": [
           "#636efa",
           "#EF553B",
           "#00cc96",
           "#ab63fa",
           "#FFA15A",
           "#19d3f3",
           "#FF6692",
           "#B6E880",
           "#FF97FF",
           "#FECB52"
          ],
          "font": {
           "color": "#2a3f5f"
          },
          "geo": {
           "bgcolor": "white",
           "lakecolor": "white",
           "landcolor": "#E5ECF6",
           "showlakes": true,
           "showland": true,
           "subunitcolor": "white"
          },
          "hoverlabel": {
           "align": "left"
          },
          "hovermode": "closest",
          "mapbox": {
           "style": "light"
          },
          "paper_bgcolor": "white",
          "plot_bgcolor": "#E5ECF6",
          "polar": {
           "angularaxis": {
            "gridcolor": "white",
            "linecolor": "white",
            "ticks": ""
           },
           "bgcolor": "#E5ECF6",
           "radialaxis": {
            "gridcolor": "white",
            "linecolor": "white",
            "ticks": ""
           }
          },
          "scene": {
           "xaxis": {
            "backgroundcolor": "#E5ECF6",
            "gridcolor": "white",
            "gridwidth": 2,
            "linecolor": "white",
            "showbackground": true,
            "ticks": "",
            "zerolinecolor": "white"
           },
           "yaxis": {
            "backgroundcolor": "#E5ECF6",
            "gridcolor": "white",
            "gridwidth": 2,
            "linecolor": "white",
            "showbackground": true,
            "ticks": "",
            "zerolinecolor": "white"
           },
           "zaxis": {
            "backgroundcolor": "#E5ECF6",
            "gridcolor": "white",
            "gridwidth": 2,
            "linecolor": "white",
            "showbackground": true,
            "ticks": "",
            "zerolinecolor": "white"
           }
          },
          "shapedefaults": {
           "line": {
            "color": "#2a3f5f"
           }
          },
          "ternary": {
           "aaxis": {
            "gridcolor": "white",
            "linecolor": "white",
            "ticks": ""
           },
           "baxis": {
            "gridcolor": "white",
            "linecolor": "white",
            "ticks": ""
           },
           "bgcolor": "#E5ECF6",
           "caxis": {
            "gridcolor": "white",
            "linecolor": "white",
            "ticks": ""
           }
          },
          "title": {
           "x": 0.05
          },
          "xaxis": {
           "automargin": true,
           "gridcolor": "white",
           "linecolor": "white",
           "ticks": "",
           "title": {
            "standoff": 15
           },
           "zerolinecolor": "white",
           "zerolinewidth": 2
          },
          "yaxis": {
           "automargin": true,
           "gridcolor": "white",
           "linecolor": "white",
           "ticks": "",
           "title": {
            "standoff": 15
           },
           "zerolinecolor": "white",
           "zerolinewidth": 2
          }
         }
        },
        "title": {
         "text": "Parallel Coordinates Plot of Fraud Features"
        }
       }
      }
     },
     "metadata": {},
     "output_type": "display_data"
    }
   ],
   "source": [
    "# Create balanced sample using pd.concat() instead of append()\n",
    "fraud_sample = df[df['Class'] == 1].sample(100, random_state=42)\n",
    "normal_sample = df[df['Class'] == 0].sample(100, random_state=42)\n",
    "sample_df = pd.concat([fraud_sample, normal_sample])\n",
    "\n",
    "# Create parallel coordinates plot\n",
    "fig = px.parallel_coordinates(\n",
    "    sample_df,\n",
    "    dimensions=['Time_Hours', 'Amount', 'V1', 'V2', 'V3'],\n",
    "    color='Class',\n",
    "    color_continuous_scale=px.colors.diverging.Tealrose,\n",
    "    title='Parallel Coordinates Plot of Fraud Features'\n",
    ")\n",
    "\n",
    "# Add custom hover information\n",
    "fig.update_traces(\n",
    "    line=dict(colorbar=dict(title='Fraud Probability')),\n",
    "    selector=dict(type='parcoords')\n",
    ")\n",
    "\n",
    "fig.show()\n",
    "\n"
   ]
  },
  {
   "cell_type": "markdown",
   "id": "ca0c39e5",
   "metadata": {},
   "source": [
    "### 2. Fraud Proportion by Amount Bracket\n",
    "\n",
    "•\t**Type:** Bar chart showing % fraud in different amount ranges\n",
    "\n",
    "•\t**Rationale:** Quantifies risk levels for transaction sizes\n",
    "\n",
    "•\t**Insight:** May show \"sweet spots\" where fraud is most common\n"
   ]
  },
  {
   "cell_type": "code",
   "execution_count": 67,
   "id": "a339c557",
   "metadata": {},
   "outputs": [
    {
     "data": {
      "image/png": "[encoded data removed]",
      "text/plain": [
       "<Figure size 1200x600 with 1 Axes>"
      ]
     },
     "metadata": {},
     "output_type": "display_data"
    }
   ],
   "source": [
    "# Create amount brackets (removed observed parameter as it's not valid for cut)\n",
    "df['Amount_Bracket'] = pd.cut(df['Amount'], \n",
    "                             bins=[0, 10, 50, 100, 500, 1000, 5000, np.inf],\n",
    "                             labels=['0-10€', '10-50€', '50-100€', '100-500€', \n",
    "                                    '500-1000€', '1000-5000€', '5000€+'])\n",
    "\n",
    "# Calculate fraud proportion - use observed=True only in groupby\n",
    "fraud_proportion = df.groupby('Amount_Bracket', observed=True)['Class'].mean().reset_index()\n",
    "\n",
    "plt.figure(figsize=(12, 6))\n",
    "ax = sns.barplot(x='Amount_Bracket', y='Class', hue='Amount_Bracket',\n",
    "                data=fraud_proportion, palette='Reds', legend=False,\n",
    "                saturation=0.8)\n",
    "\n",
    "# Add value labels on top of bars\n",
    "for p in ax.patches:\n",
    "    ax.annotate(f\"{p.get_height()*100:.2f}%\", \n",
    "                (p.get_x() + p.get_width() / 2., p.get_height()),\n",
    "                ha='center', va='center', fontsize=10, color='black',\n",
    "                xytext=(0, 5), textcoords='offset points')\n",
    "\n",
    "plt.title('Fraud Rate by Transaction Amount Bracket', fontsize=14, pad=20)\n",
    "plt.xlabel('Transaction Amount Bracket', fontsize=12)\n",
    "plt.ylabel('Fraud Percentage', fontsize=12)\n",
    "plt.xticks(rotation=45)\n",
    "plt.ylim(0, fraud_proportion['Class'].max() * 1.2)  # Add 20% headroom\n",
    "plt.grid(axis='y', alpha=0.3)\n",
    "sns.despine(left=True)\n",
    "plt.tight_layout()\n",
    "plt.show()"
   ]
  },
  {
   "cell_type": "markdown",
   "id": "a31ea439",
   "metadata": {},
   "source": [
    "### 3. Time-Amount Fraud Bubble Chart\n",
    "\n",
    "•   **Type:** Scatter plot (Time vs Amount) with bubble size = fraud probability\n",
    "\n",
    "•   **Rationale:** Visualizes high-risk time-amount combinations\n",
    "\n",
    "•   **Insight:** Identifies \"danger zones\" for transaction monitoring\n"
   ]
  },
  {
   "cell_type": "code",
   "execution_count": 68,
   "id": "14d7507f",
   "metadata": {},
   "outputs": [
    {
     "name": "stderr",
     "output_type": "stream",
     "text": [
      "/var/folders/ds/wj6jlh7x2fgggfz75ng92c0m0000gn/T/ipykernel_5565/1542603491.py:5: FutureWarning:\n",
      "\n",
      "The default of observed=False is deprecated and will be changed to True in a future version of pandas. Pass observed=False to retain current behavior or observed=True to adopt the future default and silence this warning.\n",
      "\n"
     ]
    },
    {
     "data": {
      "image/png": "[encoded data removed]",
      "text/plain": [
       "<Figure size 1600x800 with 2 Axes>"
      ]
     },
     "metadata": {},
     "output_type": "display_data"
    }
   ],
   "source": [
    "import matplotlib.ticker as mticker\n",
    "import numpy as np\n",
    "\n",
    "# Create aggregated data\n",
    "bubble_data = df.groupby(\n",
    "    [\n",
    "        pd.cut(df['Time_Hours'], bins=24),\n",
    "        pd.cut(df['Amount'], bins=[0, 10, 50, 100, 500, 1000, np.inf])\n",
    "    ]\n",
    ")['Class'].agg(['count', 'mean']).reset_index()\n",
    "bubble_data.columns = ['Time_Bin', 'Amount_Bin', 'Transaction_Count', 'Fraud_Rate']\n",
    "\n",
    "# Calculate positions and sizes\n",
    "x_pos = bubble_data['Time_Bin'].apply(lambda x: x.mid)\n",
    "y_pos = bubble_data['Amount_Bin'].apply(lambda x: x.mid)\n",
    "bubble_sizes = np.sqrt(bubble_data['Transaction_Count']) * 3\n",
    "\n",
    "# Create figure with adjusted subplot parameters\n",
    "plt.figure(figsize=(16, 8))\n",
    "plt.subplots_adjust(right=0.75)  # Add 25% extra space on right\n",
    "\n",
    "# Create scatter plot\n",
    "scatter = plt.scatter(\n",
    "    x=x_pos,\n",
    "    y=y_pos,\n",
    "    s=bubble_sizes,\n",
    "    c=bubble_data['Fraud_Rate']*100,\n",
    "    cmap='Reds',\n",
    "    alpha=0.7,\n",
    "    edgecolors='grey',\n",
    "    linewidths=0.5\n",
    ")\n",
    "\n",
    "# Add colorbar\n",
    "cbar = plt.colorbar(scatter, pad=0.02)\n",
    "cbar.set_label('Fraud Rate (%)', rotation=270, labelpad=25)\n",
    "\n",
    "# Formatting\n",
    "plt.title('Fraud Risk by Time and Amount\\n(Bubble Size = Transaction Volume)', fontsize=14, pad=20)\n",
    "plt.xlabel('Time Since First Transaction (hours)', fontsize=12)\n",
    "plt.ylabel('Transaction Amount (€)', fontsize=12)\n",
    "plt.grid(True, alpha=0.3)\n",
    "plt.gca().yaxis.set_major_formatter(mticker.StrMethodFormatter('€{x:,.0f}'))\n",
    "\n",
    "# Add legend with proper positioning\n",
    "legend_sizes = [100, 1000, 5000]\n",
    "legend_labels = [f'{size} trans' for size in legend_sizes]\n",
    "legend_markers = [\n",
    "    plt.scatter([], [], s=np.sqrt(size)*3, c='none', edgecolor='grey', label=label)\n",
    "    for size, label in zip(legend_sizes, legend_labels)\n",
    "]\n",
    "\n",
    "# Position legend in the empty space we created\n",
    "legend = plt.legend(\n",
    "    handles=legend_markers,\n",
    "    title='Transaction Volume',\n",
    "    loc='center right',\n",
    "    bbox_to_anchor=(1.02, 0.5),  # Positioned in the empty right margin\n",
    "    frameon=True,\n",
    "    framealpha=1\n",
    ")\n",
    "\n",
    "plt.tight_layout()\n",
    "plt.show()"
   ]
  },
  {
   "cell_type": "markdown",
   "id": "01cebe94",
   "metadata": {},
   "source": [
    "## Conclusion\n",
    "\n",
    "Our 9 visualizations strategically overcome dataset limitations by:\n",
    "\n",
    "1. **Focusing on interpretable features** (`Time`, `Amount`, `Class`)\n",
    "2. **Using PCA components** only where patterns can be meaningfully observed\n",
    "3. **Employing multiple complementary views** (temporal, comparative, multidimensional)\n",
    "\n",
    "This approach satisfies the project requirements while providing actionable insights about fraud patterns, despite most features being transformed.\n",
    "\n",
    "All visualizations will be implemented in **Python** using **Matplotlib**/**Seaborn**, with interactive elements via **Plotly**, where beneficial."
   ]
  }
 ],
 "metadata": {
  "kernelspec": {
   "display_name": "base",
   "language": "python",
   "name": "python3"
  },
  "language_info": {
   "codemirror_mode": {
    "name": "ipython",
    "version": 3
   },
   "file_extension": ".py",
   "mimetype": "text/x-python",
   "name": "python",
   "nbconvert_exporter": "python",
   "pygments_lexer": "ipython3",
   "version": "3.12.7"
  }
 },
 "nbformat": 4,
 "nbformat_minor": 5
}
